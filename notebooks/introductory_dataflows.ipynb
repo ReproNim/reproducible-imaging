{
 "cells": [
  {
   "cell_type": "markdown",
   "metadata": {
    "nbpresent": {
     "id": "ef0d4a65-1e86-4570-bd56-0e683df3cc72"
    }
   },
   "source": [
    "# Hello world\n",
    "\n",
    "## Quickest introduction to Nipype workflows "
   ]
  },
  {
   "cell_type": "markdown",
   "metadata": {
    "nbpresent": {
     "id": "f834221c-3c73-47ce-b36e-ba3f17bd3d60"
    }
   },
   "source": [
    "![Nipype architecture](https://raw.github.com/satra/intro2nipype/master/images/arch.png)"
   ]
  },
  {
   "cell_type": "markdown",
   "metadata": {},
   "source": [
    "- [Existing documentation](http://nipype.readthedocs.io/en/latest/)\n",
    "\n",
    "- [Comprehensive tutorials](https://nbviewer.jupyter.org/github/djarecka/nipype_tutorial/blob/master/index.ipynb)\n",
    "  \n",
    "  - Adapted from [Michael Notter's Tutorials](https://miykael.github.io/nipype_tutorial/)\n",
    "\n",
    "- [Visualizing the evolution of Nipype](https://www.youtube.com/watch?v=cofpD1lhmKU)"
   ]
  },
  {
   "cell_type": "markdown",
   "metadata": {},
   "source": [
    "#### Import a few things from nipype"
   ]
  },
  {
   "cell_type": "code",
   "execution_count": 1,
   "metadata": {
    "nbpresent": {
     "id": "bb1cfcc5-5cbf-4097-b8a9-fe4d74ce6bcd"
    }
   },
   "outputs": [],
   "source": [
    "import os\n",
    "from nipype import Workflow, Node, Function"
   ]
  },
  {
   "cell_type": "markdown",
   "metadata": {},
   "source": [
    "Creating Workflow with one Node that adds two numbers"
   ]
  },
  {
   "cell_type": "code",
   "execution_count": 2,
   "metadata": {
    "nbpresent": {
     "id": "d0adfd78-01e1-4623-983a-bbf53a9bb858"
    }
   },
   "outputs": [
    {
     "name": "stdout",
     "output_type": "stream",
     "text": [
      "170818-17:47:37,240 workflow INFO:\n",
      "\t Workflow hello settings: ['check', 'execution', 'logging']\n",
      "170818-17:47:37,322 workflow INFO:\n",
      "\t Running serially.\n",
      "170818-17:47:37,323 workflow INFO:\n",
      "\t Executing node a_plus_b in dir: /home/neuro/neuro_DS/reproducible-imaging/notebooks/hello/a_plus_b\n"
     ]
    },
    {
     "data": {
      "text/plain": [
       "\n",
       "sum = 4"
      ]
     },
     "execution_count": 2,
     "metadata": {},
     "output_type": "execute_result"
    }
   ],
   "source": [
    "def sum(a, b):\n",
    "    return a + b\n",
    "\n",
    "wf = Workflow('hello')\n",
    "\n",
    "adder = Node(Function(input_names=['a', 'b'],\n",
    "                      output_names=['sum'],\n",
    "                      function=sum), \n",
    "             name='a_plus_b')\n",
    "\n",
    "adder.inputs.a = 1\n",
    "adder.inputs.b = 3\n",
    "\n",
    "wf.add_nodes([adder])\n",
    "\n",
    "wf.base_dir = os.getcwd()\n",
    "\n",
    "eg = wf.run()\n",
    "\n",
    "eg.nodes()[0].result.outputs"
   ]
  },
  {
   "cell_type": "markdown",
   "metadata": {},
   "source": [
    "Creating a second node and connecting to the ``hello`` Workflow "
   ]
  },
  {
   "cell_type": "code",
   "execution_count": 3,
   "metadata": {},
   "outputs": [
    {
     "name": "stdout",
     "output_type": "stream",
     "text": [
      "170818-17:47:37,426 workflow INFO:\n",
      "\t Workflow hello settings: ['check', 'execution', 'logging']\n",
      "170818-17:47:37,473 workflow INFO:\n",
      "\t Running serially.\n",
      "170818-17:47:37,475 workflow INFO:\n",
      "\t Executing node a_plus_b in dir: /home/neuro/neuro_DS/reproducible-imaging/notebooks/hello/a_plus_b\n",
      "170818-17:47:37,552 workflow INFO:\n",
      "\t Executing node concat_a_b in dir: /home/neuro/neuro_DS/reproducible-imaging/notebooks/hello/concat_a_b\n",
      "[hello.a_plus_b, hello.concat_a_b]\n"
     ]
    }
   ],
   "source": [
    "def concat(a, b):\n",
    "    return [a, b]\n",
    "\n",
    "\n",
    "concater = Node(Function(input_names=['a', 'b'],\n",
    "                         output_names=['some_list'],\n",
    "                         function=concat), \n",
    "                name='concat_a_b')\n",
    "\n",
    "wf.connect(adder, 'sum', concater, 'a')\n",
    "concater.inputs.b = 3\n",
    "\n",
    "eg = wf.run()\n",
    "print(eg.nodes())"
   ]
  },
  {
   "cell_type": "markdown",
   "metadata": {},
   "source": [
    "And we can check results of our Workflow, we should see a list:"
   ]
  },
  {
   "cell_type": "code",
   "execution_count": 4,
   "metadata": {},
   "outputs": [
    {
     "data": {
      "text/plain": [
       "\n",
       "some_list = [4, 3]"
      ]
     },
     "execution_count": 4,
     "metadata": {},
     "output_type": "execute_result"
    }
   ],
   "source": [
    "eg.nodes()[-1].result.outputs"
   ]
  },
  {
   "cell_type": "markdown",
   "metadata": {},
   "source": [
    "We will try to add additional Node that adds one:"
   ]
  },
  {
   "cell_type": "code",
   "execution_count": 5,
   "metadata": {},
   "outputs": [
    {
     "name": "stdout",
     "output_type": "stream",
     "text": [
      "170818-17:47:37,695 workflow INFO:\n",
      "\t Workflow hello settings: ['check', 'execution', 'logging']\n",
      "170818-17:47:37,738 workflow INFO:\n",
      "\t Running serially.\n",
      "170818-17:47:37,741 workflow INFO:\n",
      "\t Executing node a_plus_b in dir: /home/neuro/neuro_DS/reproducible-imaging/notebooks/hello/a_plus_b\n",
      "170818-17:47:37,754 workflow INFO:\n",
      "\t Collecting precomputed outputs\n",
      "170818-17:47:37,762 workflow INFO:\n",
      "\t Executing node concat_a_b in dir: /home/neuro/neuro_DS/reproducible-imaging/notebooks/hello/concat_a_b\n",
      "170818-17:47:37,841 workflow INFO:\n",
      "\t Executing node add_1 in dir: /home/neuro/neuro_DS/reproducible-imaging/notebooks/hello/add_1\n",
      "PLUS ONE, a = [4, 3]\n",
      "170818-17:47:37,895 workflow ERROR:\n",
      "\t ['Node add_1 failed to run on host 80f7867b8168.']\n",
      "170818-17:47:37,903 workflow INFO:\n",
      "\t Saving crash info to /home/neuro/neuro_DS/reproducible-imaging/notebooks/crash-20170818-174737-root-add_1-d2def004-44c1-4742-9d16-b6c99338852b.pklz\n",
      "170818-17:47:37,904 workflow INFO:\n",
      "\t Traceback (most recent call last):\n",
      "  File \"/opt/conda/envs/neuro/lib/python3.6/site-packages/nipype/pipeline/plugins/linear.py\", line 43, in run\n",
      "    node.run(updatehash=updatehash)\n",
      "  File \"/opt/conda/envs/neuro/lib/python3.6/site-packages/nipype/pipeline/engine/nodes.py\", line 372, in run\n",
      "    self._run_interface()\n",
      "  File \"/opt/conda/envs/neuro/lib/python3.6/site-packages/nipype/pipeline/engine/nodes.py\", line 482, in _run_interface\n",
      "    self._result = self._run_command(execute)\n",
      "  File \"/opt/conda/envs/neuro/lib/python3.6/site-packages/nipype/pipeline/engine/nodes.py\", line 613, in _run_command\n",
      "    result = self._interface.run()\n",
      "  File \"/opt/conda/envs/neuro/lib/python3.6/site-packages/nipype/interfaces/base.py\", line 1081, in run\n",
      "    runtime = self._run_wrapper(runtime)\n",
      "  File \"/opt/conda/envs/neuro/lib/python3.6/site-packages/nipype/interfaces/base.py\", line 1029, in _run_wrapper\n",
      "    runtime = self._run_interface(runtime)\n",
      "  File \"/opt/conda/envs/neuro/lib/python3.6/site-packages/nipype/interfaces/utility/wrappers.py\", line 194, in _run_interface\n",
      "    out = function_handle(**args)\n",
      "  File \"<string>\", line 3, in plus_one\n",
      "TypeError: can only concatenate list (not \"int\") to list\n",
      "Interface Function failed to run. \n",
      "\n",
      "170818-17:47:37,912 workflow INFO:\n",
      "\t ***********************************\n",
      "170818-17:47:37,914 workflow ERROR:\n",
      "\t could not run node: hello.add_1\n",
      "170818-17:47:37,916 workflow INFO:\n",
      "\t crashfile: /home/neuro/neuro_DS/reproducible-imaging/notebooks/crash-20170818-174737-root-add_1-d2def004-44c1-4742-9d16-b6c99338852b.pklz\n",
      "170818-17:47:37,917 workflow INFO:\n",
      "\t ***********************************\n"
     ]
    },
    {
     "ename": "RuntimeError",
     "evalue": "Workflow did not execute cleanly. Check log for details",
     "output_type": "error",
     "traceback": [
      "\u001b[0;31m---------------------------------------------------------------------------\u001b[0m",
      "\u001b[0;31mRuntimeError\u001b[0m                              Traceback (most recent call last)",
      "\u001b[0;32m<ipython-input-5-673369f26ab3>\u001b[0m in \u001b[0;36m<module>\u001b[0;34m()\u001b[0m\n\u001b[1;32m     10\u001b[0m \u001b[0mwf\u001b[0m\u001b[0;34m.\u001b[0m\u001b[0mconnect\u001b[0m\u001b[0;34m(\u001b[0m\u001b[0mconcater\u001b[0m\u001b[0;34m,\u001b[0m \u001b[0;34m'some_list'\u001b[0m\u001b[0;34m,\u001b[0m \u001b[0mplusone\u001b[0m\u001b[0;34m,\u001b[0m \u001b[0;34m'a'\u001b[0m\u001b[0;34m)\u001b[0m\u001b[0;34m\u001b[0m\u001b[0m\n\u001b[1;32m     11\u001b[0m \u001b[0;34m\u001b[0m\u001b[0m\n\u001b[0;32m---> 12\u001b[0;31m \u001b[0meg\u001b[0m \u001b[0;34m=\u001b[0m \u001b[0mwf\u001b[0m\u001b[0;34m.\u001b[0m\u001b[0mrun\u001b[0m\u001b[0;34m(\u001b[0m\u001b[0;34m)\u001b[0m\u001b[0;34m\u001b[0m\u001b[0m\n\u001b[0m\u001b[1;32m     13\u001b[0m \u001b[0mprint\u001b[0m\u001b[0;34m(\u001b[0m\u001b[0meg\u001b[0m\u001b[0;34m.\u001b[0m\u001b[0mnodes\u001b[0m\u001b[0;34m(\u001b[0m\u001b[0;34m)\u001b[0m\u001b[0;34m)\u001b[0m\u001b[0;34m\u001b[0m\u001b[0m\n",
      "\u001b[0;32m/opt/conda/envs/neuro/lib/python3.6/site-packages/nipype/pipeline/engine/workflows.py\u001b[0m in \u001b[0;36mrun\u001b[0;34m(self, plugin, plugin_args, updatehash)\u001b[0m\n\u001b[1;32m    588\u001b[0m         \u001b[0;32mif\u001b[0m \u001b[0mstr2bool\u001b[0m\u001b[0;34m(\u001b[0m\u001b[0mself\u001b[0m\u001b[0;34m.\u001b[0m\u001b[0mconfig\u001b[0m\u001b[0;34m[\u001b[0m\u001b[0;34m'execution'\u001b[0m\u001b[0;34m]\u001b[0m\u001b[0;34m[\u001b[0m\u001b[0;34m'create_report'\u001b[0m\u001b[0;34m]\u001b[0m\u001b[0;34m)\u001b[0m\u001b[0;34m:\u001b[0m\u001b[0;34m\u001b[0m\u001b[0m\n\u001b[1;32m    589\u001b[0m             \u001b[0mself\u001b[0m\u001b[0;34m.\u001b[0m\u001b[0m_write_report_info\u001b[0m\u001b[0;34m(\u001b[0m\u001b[0mself\u001b[0m\u001b[0;34m.\u001b[0m\u001b[0mbase_dir\u001b[0m\u001b[0;34m,\u001b[0m \u001b[0mself\u001b[0m\u001b[0;34m.\u001b[0m\u001b[0mname\u001b[0m\u001b[0;34m,\u001b[0m \u001b[0mexecgraph\u001b[0m\u001b[0;34m)\u001b[0m\u001b[0;34m\u001b[0m\u001b[0m\n\u001b[0;32m--> 590\u001b[0;31m         \u001b[0mrunner\u001b[0m\u001b[0;34m.\u001b[0m\u001b[0mrun\u001b[0m\u001b[0;34m(\u001b[0m\u001b[0mexecgraph\u001b[0m\u001b[0;34m,\u001b[0m \u001b[0mupdatehash\u001b[0m\u001b[0;34m=\u001b[0m\u001b[0mupdatehash\u001b[0m\u001b[0;34m,\u001b[0m \u001b[0mconfig\u001b[0m\u001b[0;34m=\u001b[0m\u001b[0mself\u001b[0m\u001b[0;34m.\u001b[0m\u001b[0mconfig\u001b[0m\u001b[0;34m)\u001b[0m\u001b[0;34m\u001b[0m\u001b[0m\n\u001b[0m\u001b[1;32m    591\u001b[0m         \u001b[0mdatestr\u001b[0m \u001b[0;34m=\u001b[0m \u001b[0mdatetime\u001b[0m\u001b[0;34m.\u001b[0m\u001b[0mutcnow\u001b[0m\u001b[0;34m(\u001b[0m\u001b[0;34m)\u001b[0m\u001b[0;34m.\u001b[0m\u001b[0mstrftime\u001b[0m\u001b[0;34m(\u001b[0m\u001b[0;34m'%Y%m%dT%H%M%S'\u001b[0m\u001b[0;34m)\u001b[0m\u001b[0;34m\u001b[0m\u001b[0m\n\u001b[1;32m    592\u001b[0m         \u001b[0;32mif\u001b[0m \u001b[0mstr2bool\u001b[0m\u001b[0;34m(\u001b[0m\u001b[0mself\u001b[0m\u001b[0;34m.\u001b[0m\u001b[0mconfig\u001b[0m\u001b[0;34m[\u001b[0m\u001b[0;34m'execution'\u001b[0m\u001b[0;34m]\u001b[0m\u001b[0;34m[\u001b[0m\u001b[0;34m'write_provenance'\u001b[0m\u001b[0;34m]\u001b[0m\u001b[0;34m)\u001b[0m\u001b[0;34m:\u001b[0m\u001b[0;34m\u001b[0m\u001b[0m\n",
      "\u001b[0;32m/opt/conda/envs/neuro/lib/python3.6/site-packages/nipype/pipeline/plugins/linear.py\u001b[0m in \u001b[0;36mrun\u001b[0;34m(self, graph, config, updatehash)\u001b[0m\n\u001b[1;32m     59\u001b[0m                 \u001b[0;32mif\u001b[0m \u001b[0mself\u001b[0m\u001b[0;34m.\u001b[0m\u001b[0m_status_callback\u001b[0m\u001b[0;34m:\u001b[0m\u001b[0;34m\u001b[0m\u001b[0m\n\u001b[1;32m     60\u001b[0m                     \u001b[0mself\u001b[0m\u001b[0;34m.\u001b[0m\u001b[0m_status_callback\u001b[0m\u001b[0;34m(\u001b[0m\u001b[0mnode\u001b[0m\u001b[0;34m,\u001b[0m \u001b[0;34m'exception'\u001b[0m\u001b[0;34m)\u001b[0m\u001b[0;34m\u001b[0m\u001b[0m\n\u001b[0;32m---> 61\u001b[0;31m         \u001b[0mreport_nodes_not_run\u001b[0m\u001b[0;34m(\u001b[0m\u001b[0mnotrun\u001b[0m\u001b[0;34m)\u001b[0m\u001b[0;34m\u001b[0m\u001b[0m\n\u001b[0m",
      "\u001b[0;32m/opt/conda/envs/neuro/lib/python3.6/site-packages/nipype/pipeline/plugins/base.py\u001b[0m in \u001b[0;36mreport_nodes_not_run\u001b[0;34m(notrun)\u001b[0m\n\u001b[1;32m     99\u001b[0m                 \u001b[0mlogger\u001b[0m\u001b[0;34m.\u001b[0m\u001b[0mdebug\u001b[0m\u001b[0;34m(\u001b[0m\u001b[0msubnode\u001b[0m\u001b[0;34m.\u001b[0m\u001b[0m_id\u001b[0m\u001b[0;34m)\u001b[0m\u001b[0;34m\u001b[0m\u001b[0m\n\u001b[1;32m    100\u001b[0m         \u001b[0mlogger\u001b[0m\u001b[0;34m.\u001b[0m\u001b[0minfo\u001b[0m\u001b[0;34m(\u001b[0m\u001b[0;34m\"***********************************\"\u001b[0m\u001b[0;34m)\u001b[0m\u001b[0;34m\u001b[0m\u001b[0m\n\u001b[0;32m--> 101\u001b[0;31m         raise RuntimeError(('Workflow did not execute cleanly. '\n\u001b[0m\u001b[1;32m    102\u001b[0m                             'Check log for details'))\n\u001b[1;32m    103\u001b[0m \u001b[0;34m\u001b[0m\u001b[0m\n",
      "\u001b[0;31mRuntimeError\u001b[0m: Workflow did not execute cleanly. Check log for details"
     ]
    }
   ],
   "source": [
    "def plus_one(a):\n",
    "    print(\"PLUS ONE, a = {}\".format(a))\n",
    "    return a + 1\n",
    "\n",
    "plusone = Node(Function(input_names=['a'],\n",
    "                        output_names=['out'],\n",
    "                        function=plus_one), \n",
    "               name='add_1')\n",
    "\n",
    "wf.connect(concater, 'some_list', plusone, 'a')\n",
    "\n",
    "eg = wf.run()\n",
    "print(eg.nodes())"
   ]
  },
  {
   "cell_type": "markdown",
   "metadata": {},
   "source": [
    "This time the workflow didn't execute cleanly and we got an error. We can use ``nipypecli`` to read the crashfile (note, that if you have multiple crashfiles in the directory you'll have to provide a full name):"
   ]
  },
  {
   "cell_type": "code",
   "execution_count": 6,
   "metadata": {},
   "outputs": [
    {
     "name": "stdout",
     "output_type": "stream",
     "text": [
      "\r\n",
      "\r\n",
      "File: /home/neuro/neuro_DS/reproducible-imaging/notebooks/crash-20170818-174737-root-add_1-d2def004-44c1-4742-9d16-b6c99338852b.pklz\r\n",
      "Node: hello.add_1\r\n",
      "Working directory: /home/neuro/neuro_DS/reproducible-imaging/notebooks/hello/add_1\r\n",
      "\r\n",
      "\r\n",
      "Node inputs:\r\n",
      "\r\n",
      "a = [4, 3]\r\n",
      "function_str = def plus_one(a):\r\n",
      "    print(\"PLUS ONE, a = {}\".format(a))\r\n",
      "    return a + 1\r\n",
      "\r\n",
      "ignore_exception = False\r\n",
      "\r\n",
      "\r\n",
      "\r\n",
      "Traceback: \r\n",
      "Traceback (most recent call last):\r\n",
      "  File \"/opt/conda/envs/neuro/lib/python3.6/site-packages/nipype/pipeline/plugins/linear.py\", line 43, in run\r\n",
      "    node.run(updatehash=updatehash)\r\n",
      "  File \"/opt/conda/envs/neuro/lib/python3.6/site-packages/nipype/pipeline/engine/nodes.py\", line 372, in run\r\n",
      "    self._run_interface()\r\n",
      "  File \"/opt/conda/envs/neuro/lib/python3.6/site-packages/nipype/pipeline/engine/nodes.py\", line 482, in _run_interface\r\n",
      "    self._result = self._run_command(execute)\r\n",
      "  File \"/opt/conda/envs/neuro/lib/python3.6/site-packages/nipype/pipeline/engine/nodes.py\", line 613, in _run_command\r\n",
      "    result = self._interface.run()\r\n",
      "  File \"/opt/conda/envs/neuro/lib/python3.6/site-packages/nipype/interfaces/base.py\", line 1081, in run\r\n",
      "    runtime = self._run_wrapper(runtime)\r\n",
      "  File \"/opt/conda/envs/neuro/lib/python3.6/site-packages/nipype/interfaces/base.py\", line 1029, in _run_wrapper\r\n",
      "    runtime = self._run_interface(runtime)\r\n",
      "  File \"/opt/conda/envs/neuro/lib/python3.6/site-packages/nipype/interfaces/utility/wrappers.py\", line 194, in _run_interface\r\n",
      "    out = function_handle(**args)\r\n",
      "  File \"<string>\", line 3, in plus_one\r\n",
      "TypeError: can only concatenate list (not \"int\") to list\r\n",
      "Interface Function failed to run. \r\n",
      "\r\n",
      "\r\n",
      "\r\n"
     ]
    }
   ],
   "source": [
    "!LC_ALL= nipypecli crash crash*"
   ]
  },
  {
   "cell_type": "markdown",
   "metadata": {},
   "source": [
    "It clearly shows the problematic Node and the its input. We tried to add an integer to a list, this operation is not allowed in Python. \n",
    "\n",
    "Let's try using MapNode"
   ]
  },
  {
   "cell_type": "code",
   "execution_count": 7,
   "metadata": {},
   "outputs": [
    {
     "name": "stdout",
     "output_type": "stream",
     "text": [
      "170818-17:47:44,421 workflow INFO:\n",
      "\t Workflow hello_mapnode settings: ['check', 'execution', 'logging']\n",
      "170818-17:47:44,498 workflow INFO:\n",
      "\t Running serially.\n",
      "170818-17:47:44,500 workflow INFO:\n",
      "\t Executing node a_plus_b in dir: /home/neuro/neuro_DS/reproducible-imaging/notebooks/hello_mapnode/a_plus_b\n",
      "170818-17:47:44,513 workflow INFO:\n",
      "\t Collecting precomputed outputs\n",
      "170818-17:47:44,523 workflow INFO:\n",
      "\t Executing node concat_a_b in dir: /home/neuro/neuro_DS/reproducible-imaging/notebooks/hello/concat_a_b\n",
      "170818-17:47:44,535 workflow INFO:\n",
      "\t Collecting precomputed outputs\n",
      "170818-17:47:44,547 workflow INFO:\n",
      "\t Executing node add_1 in dir: /home/neuro/neuro_DS/reproducible-imaging/notebooks/hello_mapnode/add_1\n",
      "[hello_mapnode.a_plus_b, hello.concat_a_b, hello_mapnode.add_1]\n"
     ]
    }
   ],
   "source": [
    "from nipype import MapNode\n",
    "\n",
    "plusone = MapNode(Function(input_names=['a'],\n",
    "                           output_names=['out'],\n",
    "                           function=plus_one), \n",
    "                  iterfield=['a'],\n",
    "                  name='add_1')\n",
    "\n",
    "wf = Workflow('hello_mapnode')\n",
    "\n",
    "adder = Node(Function(input_names=['a', 'b'],\n",
    "                      output_names=['sum'],\n",
    "                      function=sum), \n",
    "             name='a_plus_b')\n",
    "\n",
    "adder.inputs.a = 1\n",
    "adder.inputs.b = 3\n",
    "wf.connect(adder, 'sum', concater, 'a')\n",
    "concater.inputs.b = 3\n",
    "\n",
    "wf.connect(concater, 'some_list', plusone, 'a')\n",
    "\n",
    "wf.base_dir = os.getcwd()\n",
    "\n",
    "eg = wf.run()\n",
    "print(eg.nodes())"
   ]
  },
  {
   "cell_type": "markdown",
   "metadata": {},
   "source": [
    "Now the workflow finished without problems, let's see the results from ``hello.add_1``:"
   ]
  },
  {
   "cell_type": "code",
   "execution_count": 8,
   "metadata": {},
   "outputs": [
    {
     "name": "stdout",
     "output_type": "stream",
     "text": [
      "Bunch(out=[5, 4])\n"
     ]
    }
   ],
   "source": [
    "print(eg.nodes()[2].result.outputs)"
   ]
  },
  {
   "cell_type": "markdown",
   "metadata": {},
   "source": [
    "And now we will run example with ``iterables``:"
   ]
  },
  {
   "cell_type": "code",
   "execution_count": 9,
   "metadata": {},
   "outputs": [
    {
     "name": "stdout",
     "output_type": "stream",
     "text": [
      "170818-17:47:46,8 workflow INFO:\n",
      "\t Workflow hello_mapnode settings: ['check', 'execution', 'logging']\n",
      "170818-17:47:46,74 workflow INFO:\n",
      "\t Running serially.\n",
      "170818-17:47:46,76 workflow INFO:\n",
      "\t Executing node a_plus_b.aI.a1 in dir: /home/neuro/neuro_DS/reproducible-imaging/notebooks/hello_mapnode/_a_2/a_plus_b\n",
      "170818-17:47:46,89 workflow INFO:\n",
      "\t Collecting precomputed outputs\n",
      "170818-17:47:46,97 workflow INFO:\n",
      "\t Executing node concat_a_b.a1 in dir: /home/neuro/neuro_DS/reproducible-imaging/notebooks/hello/_a_2/concat_a_b\n",
      "170818-17:47:46,110 workflow INFO:\n",
      "\t Collecting precomputed outputs\n",
      "170818-17:47:46,122 workflow INFO:\n",
      "\t Executing node add_1.a1 in dir: /home/neuro/neuro_DS/reproducible-imaging/notebooks/hello_mapnode/_a_2/add_1\n",
      "170818-17:47:46,140 workflow INFO:\n",
      "\t Executing node a_plus_b.aI.a0 in dir: /home/neuro/neuro_DS/reproducible-imaging/notebooks/hello_mapnode/_a_1/a_plus_b\n",
      "170818-17:47:46,154 workflow INFO:\n",
      "\t Collecting precomputed outputs\n",
      "170818-17:47:46,164 workflow INFO:\n",
      "\t Executing node concat_a_b.a0 in dir: /home/neuro/neuro_DS/reproducible-imaging/notebooks/hello/_a_1/concat_a_b\n",
      "170818-17:47:46,176 workflow INFO:\n",
      "\t Collecting precomputed outputs\n",
      "170818-17:47:46,185 workflow INFO:\n",
      "\t Executing node add_1.a0 in dir: /home/neuro/neuro_DS/reproducible-imaging/notebooks/hello_mapnode/_a_1/add_1\n",
      "[hello_mapnode.a_plus_b.aI.a0, hello.concat_a_b.a0, hello_mapnode.add_1.a0, hello_mapnode.a_plus_b.aI.a1, hello.concat_a_b.a1, hello_mapnode.add_1.a1]\n"
     ]
    }
   ],
   "source": [
    "adder.iterables = ('a', [1, 2])\n",
    "adder.inputs.b = 2\n",
    "\n",
    "eg = wf.run()\n",
    "print(eg.nodes())"
   ]
  },
  {
   "cell_type": "markdown",
   "metadata": {},
   "source": [
    "Now we have 6 nodes, we can check results for `` hello.add_1.a1``"
   ]
  },
  {
   "cell_type": "code",
   "execution_count": 10,
   "metadata": {},
   "outputs": [
    {
     "data": {
      "text/plain": [
       "Bunch(out=[5, 4])"
      ]
     },
     "execution_count": 10,
     "metadata": {},
     "output_type": "execute_result"
    }
   ],
   "source": [
    "eg.nodes()[5].result.outputs"
   ]
  },
  {
   "cell_type": "code",
   "execution_count": 11,
   "metadata": {},
   "outputs": [
    {
     "name": "stdout",
     "output_type": "stream",
     "text": [
      "170818-17:47:47,291 workflow INFO:\n",
      "\t Generated workflow graph: /home/neuro/neuro_DS/reproducible-imaging/notebooks/hello_mapnode/graph.dot.png (graph2use=exec, simple_form=True).\n"
     ]
    },
    {
     "data": {
      "text/plain": [
       "'/home/neuro/neuro_DS/reproducible-imaging/notebooks/hello_mapnode/graph.dot.png'"
      ]
     },
     "execution_count": 11,
     "metadata": {},
     "output_type": "execute_result"
    }
   ],
   "source": [
    "wf.write_graph(graph2use='exec')"
   ]
  },
  {
   "cell_type": "code",
   "execution_count": 12,
   "metadata": {},
   "outputs": [],
   "source": [
    "from IPython.display import Image"
   ]
  },
  {
   "cell_type": "markdown",
   "metadata": {},
   "source": [
    "We can plot a general structure of the workflow:"
   ]
  },
  {
   "cell_type": "code",
   "execution_count": 13,
   "metadata": {},
   "outputs": [
    {
     "data": {
      "image/png": "hello/graph.dot.png",
      "text/plain": [
       "<IPython.core.display.Image object>"
      ]
     },
     "execution_count": 13,
     "metadata": {},
     "output_type": "execute_result"
    }
   ],
   "source": [
    "Image(\"hello/graph.dot.png\")"
   ]
  },
  {
   "cell_type": "markdown",
   "metadata": {},
   "source": [
    "And more detailed structure with all nodes:"
   ]
  },
  {
   "cell_type": "code",
   "execution_count": 14,
   "metadata": {},
   "outputs": [
    {
     "data": {
      "image/png": "hello/graph_detailed.dot.png",
      "text/plain": [
       "<IPython.core.display.Image object>"
      ]
     },
     "execution_count": 14,
     "metadata": {},
     "output_type": "execute_result"
    }
   ],
   "source": [
    "Image(\"hello/graph_detailed.dot.png\")"
   ]
  },
  {
   "cell_type": "markdown",
   "metadata": {},
   "source": [
    "We will introduce another iterables, for the concater Node:"
   ]
  },
  {
   "cell_type": "code",
   "execution_count": 15,
   "metadata": {},
   "outputs": [
    {
     "name": "stdout",
     "output_type": "stream",
     "text": [
      "170818-17:47:49,558 workflow INFO:\n",
      "\t Workflow hello_mapnode settings: ['check', 'execution', 'logging']\n",
      "170818-17:47:49,647 workflow INFO:\n",
      "\t Running serially.\n",
      "170818-17:47:49,648 workflow INFO:\n",
      "\t Executing node a_plus_b.bI.b1 in dir: /home/neuro/neuro_DS/reproducible-imaging/notebooks/hello_mapnode/_a_2/a_plus_b\n",
      "170818-17:47:49,660 workflow INFO:\n",
      "\t Collecting precomputed outputs\n",
      "170818-17:47:49,668 workflow INFO:\n",
      "\t Executing node concat_a_b.aI.a0.b1 in dir: /home/neuro/neuro_DS/reproducible-imaging/notebooks/hello/_a_2/_b_3/concat_a_b\n",
      "170818-17:47:49,679 workflow INFO:\n",
      "\t Collecting precomputed outputs\n",
      "170818-17:47:49,690 workflow INFO:\n",
      "\t Executing node add_1.a0.b1 in dir: /home/neuro/neuro_DS/reproducible-imaging/notebooks/hello_mapnode/_a_2/_b_3/add_1\n",
      "170818-17:47:49,725 workflow INFO:\n",
      "\t Executing node _add_10 in dir: /home/neuro/neuro_DS/reproducible-imaging/notebooks/hello_mapnode/_a_2/_b_3/add_1/mapflow/_add_10\n",
      "PLUS ONE, a = 4\n",
      "170818-17:47:49,820 workflow INFO:\n",
      "\t Executing node _add_11 in dir: /home/neuro/neuro_DS/reproducible-imaging/notebooks/hello_mapnode/_a_2/_b_3/add_1/mapflow/_add_11\n",
      "PLUS ONE, a = 3\n",
      "170818-17:47:49,914 workflow INFO:\n",
      "\t Executing node concat_a_b.aI.a1.b1 in dir: /home/neuro/neuro_DS/reproducible-imaging/notebooks/hello/_a_2/_b_4/concat_a_b\n",
      "170818-17:47:49,928 workflow INFO:\n",
      "\t Collecting precomputed outputs\n",
      "170818-17:47:49,941 workflow INFO:\n",
      "\t Executing node add_1.a1.b1 in dir: /home/neuro/neuro_DS/reproducible-imaging/notebooks/hello_mapnode/_a_2/_b_4/add_1\n",
      "170818-17:47:49,970 workflow INFO:\n",
      "\t Executing node _add_10 in dir: /home/neuro/neuro_DS/reproducible-imaging/notebooks/hello_mapnode/_a_2/_b_4/add_1/mapflow/_add_10\n",
      "PLUS ONE, a = 4\n",
      "170818-17:47:50,61 workflow INFO:\n",
      "\t Executing node _add_11 in dir: /home/neuro/neuro_DS/reproducible-imaging/notebooks/hello_mapnode/_a_2/_b_4/add_1/mapflow/_add_11\n",
      "PLUS ONE, a = 4\n",
      "170818-17:47:50,187 workflow INFO:\n",
      "\t Executing node a_plus_b.bI.b0 in dir: /home/neuro/neuro_DS/reproducible-imaging/notebooks/hello_mapnode/_a_1/a_plus_b\n",
      "170818-17:47:50,201 workflow INFO:\n",
      "\t Collecting precomputed outputs\n",
      "170818-17:47:50,214 workflow INFO:\n",
      "\t Executing node concat_a_b.aI.a0.b0 in dir: /home/neuro/neuro_DS/reproducible-imaging/notebooks/hello/_a_1/_b_3/concat_a_b\n",
      "170818-17:47:50,229 workflow INFO:\n",
      "\t Collecting precomputed outputs\n",
      "170818-17:47:50,243 workflow INFO:\n",
      "\t Executing node add_1.a0.b0 in dir: /home/neuro/neuro_DS/reproducible-imaging/notebooks/hello_mapnode/_a_1/_b_3/add_1\n",
      "170818-17:47:50,279 workflow INFO:\n",
      "\t Executing node _add_10 in dir: /home/neuro/neuro_DS/reproducible-imaging/notebooks/hello_mapnode/_a_1/_b_3/add_1/mapflow/_add_10\n",
      "PLUS ONE, a = 3\n",
      "170818-17:47:50,374 workflow INFO:\n",
      "\t Executing node _add_11 in dir: /home/neuro/neuro_DS/reproducible-imaging/notebooks/hello_mapnode/_a_1/_b_3/add_1/mapflow/_add_11\n",
      "PLUS ONE, a = 3\n",
      "170818-17:47:50,508 workflow INFO:\n",
      "\t Executing node concat_a_b.aI.a1.b0 in dir: /home/neuro/neuro_DS/reproducible-imaging/notebooks/hello/_a_1/_b_4/concat_a_b\n",
      "170818-17:47:50,523 workflow INFO:\n",
      "\t Collecting precomputed outputs\n",
      "170818-17:47:50,537 workflow INFO:\n",
      "\t Executing node add_1.a1.b0 in dir: /home/neuro/neuro_DS/reproducible-imaging/notebooks/hello_mapnode/_a_1/_b_4/add_1\n",
      "170818-17:47:50,572 workflow INFO:\n",
      "\t Executing node _add_10 in dir: /home/neuro/neuro_DS/reproducible-imaging/notebooks/hello_mapnode/_a_1/_b_4/add_1/mapflow/_add_10\n",
      "PLUS ONE, a = 3\n",
      "170818-17:47:50,674 workflow INFO:\n",
      "\t Executing node _add_11 in dir: /home/neuro/neuro_DS/reproducible-imaging/notebooks/hello_mapnode/_a_1/_b_4/add_1/mapflow/_add_11\n",
      "PLUS ONE, a = 4\n"
     ]
    },
    {
     "data": {
      "text/plain": [
       "[hello_mapnode.a_plus_b.bI.b0,\n",
       " hello.concat_a_b.aI.a0.b0,\n",
       " hello_mapnode.add_1.a0.b0,\n",
       " hello.concat_a_b.aI.a1.b0,\n",
       " hello_mapnode.add_1.a1.b0,\n",
       " hello_mapnode.a_plus_b.bI.b1,\n",
       " hello.concat_a_b.aI.a0.b1,\n",
       " hello_mapnode.add_1.a0.b1,\n",
       " hello.concat_a_b.aI.a1.b1,\n",
       " hello_mapnode.add_1.a1.b1]"
      ]
     },
     "execution_count": 15,
     "metadata": {},
     "output_type": "execute_result"
    }
   ],
   "source": [
    "concater.iterables = ('b', [3, 4])\n",
    "eg = wf.run()\n",
    "eg.nodes()"
   ]
  },
  {
   "cell_type": "code",
   "execution_count": 16,
   "metadata": {},
   "outputs": [
    {
     "name": "stdout",
     "output_type": "stream",
     "text": [
      "170818-17:47:51,108 workflow INFO:\n",
      "\t Generated workflow graph: /home/neuro/neuro_DS/reproducible-imaging/notebooks/hello_mapnode/graph.dot.png (graph2use=exec, simple_form=True).\n"
     ]
    },
    {
     "data": {
      "text/plain": [
       "'/home/neuro/neuro_DS/reproducible-imaging/notebooks/hello_mapnode/graph.dot.png'"
      ]
     },
     "execution_count": 16,
     "metadata": {},
     "output_type": "execute_result"
    }
   ],
   "source": [
    "wf.write_graph(graph2use='exec')"
   ]
  },
  {
   "cell_type": "code",
   "execution_count": 17,
   "metadata": {},
   "outputs": [
    {
     "data": {
      "image/png": "hello/graph_detailed.dot.png",
      "text/plain": [
       "<IPython.core.display.Image object>"
      ]
     },
     "execution_count": 17,
     "metadata": {},
     "output_type": "execute_result"
    }
   ],
   "source": [
    "Image(\"hello/graph_detailed.dot.png\")"
   ]
  },
  {
   "cell_type": "markdown",
   "metadata": {},
   "source": [
    "Now we will introduce JoinNode that allows us to merge results together:"
   ]
  },
  {
   "cell_type": "code",
   "execution_count": 18,
   "metadata": {},
   "outputs": [
    {
     "name": "stdout",
     "output_type": "stream",
     "text": [
      "170818-17:47:53,635 workflow INFO:\n",
      "\t Workflow hello_mapnode settings: ['check', 'execution', 'logging']\n",
      "170818-17:47:53,700 workflow INFO:\n",
      "\t Running serially.\n",
      "170818-17:47:53,702 workflow INFO:\n",
      "\t Executing node a_plus_b.bI.b1 in dir: /home/neuro/neuro_DS/reproducible-imaging/notebooks/hello_mapnode/_a_2/a_plus_b\n",
      "170818-17:47:53,715 workflow INFO:\n",
      "\t Collecting precomputed outputs\n",
      "170818-17:47:53,724 workflow INFO:\n",
      "\t Executing node concat_a_b.aI.a0.b1 in dir: /home/neuro/neuro_DS/reproducible-imaging/notebooks/hello/_a_2/_b_3/concat_a_b\n",
      "170818-17:47:53,736 workflow INFO:\n",
      "\t Collecting precomputed outputs\n",
      "170818-17:47:53,745 workflow INFO:\n",
      "\t Executing node add_1.a0.b1 in dir: /home/neuro/neuro_DS/reproducible-imaging/notebooks/hello_mapnode/_a_2/_b_3/add_1\n",
      "170818-17:47:53,774 workflow INFO:\n",
      "\t Executing node _add_10 in dir: /home/neuro/neuro_DS/reproducible-imaging/notebooks/hello_mapnode/_a_2/_b_3/add_1/mapflow/_add_10\n",
      "PLUS ONE, a = 4\n",
      "170818-17:47:53,859 workflow INFO:\n",
      "\t Executing node _add_11 in dir: /home/neuro/neuro_DS/reproducible-imaging/notebooks/hello_mapnode/_a_2/_b_3/add_1/mapflow/_add_11\n",
      "PLUS ONE, a = 3\n",
      "170818-17:47:53,962 workflow INFO:\n",
      "\t Executing node concat_a_b.aI.a1.b1 in dir: /home/neuro/neuro_DS/reproducible-imaging/notebooks/hello/_a_2/_b_4/concat_a_b\n",
      "170818-17:47:53,976 workflow INFO:\n",
      "\t Collecting precomputed outputs\n",
      "170818-17:47:53,988 workflow INFO:\n",
      "\t Executing node add_1.a1.b1 in dir: /home/neuro/neuro_DS/reproducible-imaging/notebooks/hello_mapnode/_a_2/_b_4/add_1\n",
      "170818-17:47:54,20 workflow INFO:\n",
      "\t Executing node _add_10 in dir: /home/neuro/neuro_DS/reproducible-imaging/notebooks/hello_mapnode/_a_2/_b_4/add_1/mapflow/_add_10\n",
      "PLUS ONE, a = 4\n",
      "170818-17:47:54,97 workflow INFO:\n",
      "\t Executing node _add_11 in dir: /home/neuro/neuro_DS/reproducible-imaging/notebooks/hello_mapnode/_a_2/_b_4/add_1/mapflow/_add_11\n",
      "PLUS ONE, a = 4\n",
      "170818-17:47:54,196 workflow INFO:\n",
      "\t Executing node a_plus_b.bI.b0 in dir: /home/neuro/neuro_DS/reproducible-imaging/notebooks/hello_mapnode/_a_1/a_plus_b\n",
      "170818-17:47:54,207 workflow INFO:\n",
      "\t Collecting precomputed outputs\n",
      "170818-17:47:54,219 workflow INFO:\n",
      "\t Executing node concat_a_b.aI.a0.b0 in dir: /home/neuro/neuro_DS/reproducible-imaging/notebooks/hello/_a_1/_b_3/concat_a_b\n",
      "170818-17:47:54,232 workflow INFO:\n",
      "\t Collecting precomputed outputs\n",
      "170818-17:47:54,245 workflow INFO:\n",
      "\t Executing node add_1.a0.b0 in dir: /home/neuro/neuro_DS/reproducible-imaging/notebooks/hello_mapnode/_a_1/_b_3/add_1\n",
      "170818-17:47:54,278 workflow INFO:\n",
      "\t Executing node _add_10 in dir: /home/neuro/neuro_DS/reproducible-imaging/notebooks/hello_mapnode/_a_1/_b_3/add_1/mapflow/_add_10\n",
      "PLUS ONE, a = 3\n",
      "170818-17:47:54,364 workflow INFO:\n",
      "\t Executing node _add_11 in dir: /home/neuro/neuro_DS/reproducible-imaging/notebooks/hello_mapnode/_a_1/_b_3/add_1/mapflow/_add_11\n",
      "PLUS ONE, a = 3\n",
      "170818-17:47:54,486 workflow INFO:\n",
      "\t Executing node concat_a_b.aI.a1.b0 in dir: /home/neuro/neuro_DS/reproducible-imaging/notebooks/hello/_a_1/_b_4/concat_a_b\n",
      "170818-17:47:54,501 workflow INFO:\n",
      "\t Collecting precomputed outputs\n",
      "170818-17:47:54,514 workflow INFO:\n",
      "\t Executing node add_1.a1.b0 in dir: /home/neuro/neuro_DS/reproducible-imaging/notebooks/hello_mapnode/_a_1/_b_4/add_1\n",
      "170818-17:47:54,548 workflow INFO:\n",
      "\t Executing node _add_10 in dir: /home/neuro/neuro_DS/reproducible-imaging/notebooks/hello_mapnode/_a_1/_b_4/add_1/mapflow/_add_10\n",
      "PLUS ONE, a = 3\n",
      "170818-17:47:54,641 workflow INFO:\n",
      "\t Executing node _add_11 in dir: /home/neuro/neuro_DS/reproducible-imaging/notebooks/hello_mapnode/_a_1/_b_4/add_1/mapflow/_add_11\n",
      "PLUS ONE, a = 4\n",
      "170818-17:47:54,775 workflow INFO:\n",
      "\t Executing node join_scale_data.a1 in dir: /home/neuro/neuro_DS/reproducible-imaging/notebooks/hello_mapnode/_b_4/join_scale_data\n",
      "170818-17:47:54,788 workflow INFO:\n",
      "\t Collecting precomputed outputs\n",
      "170818-17:47:54,806 workflow INFO:\n",
      "\t Executing node join_scale_data.a0 in dir: /home/neuro/neuro_DS/reproducible-imaging/notebooks/hello_mapnode/_b_3/join_scale_data\n",
      "170818-17:47:54,818 workflow INFO:\n",
      "\t Collecting precomputed outputs\n"
     ]
    },
    {
     "data": {
      "text/plain": [
       "[hello_mapnode.join_scale_data.a0,\n",
       " hello_mapnode.join_scale_data.a1,\n",
       " hello_mapnode.a_plus_b.bI.b0,\n",
       " hello.concat_a_b.aI.a0.b0,\n",
       " hello_mapnode.add_1.a0.b0,\n",
       " hello.concat_a_b.aI.a1.b0,\n",
       " hello_mapnode.add_1.a1.b0,\n",
       " hello_mapnode.a_plus_b.bI.b1,\n",
       " hello.concat_a_b.aI.a0.b1,\n",
       " hello_mapnode.add_1.a0.b1,\n",
       " hello.concat_a_b.aI.a1.b1,\n",
       " hello_mapnode.add_1.a1.b1]"
      ]
     },
     "execution_count": 18,
     "metadata": {},
     "output_type": "execute_result"
    }
   ],
   "source": [
    "def merge_and_scale_data(data2):\n",
    "    import numpy as np\n",
    "    return (np.array(data2) * 1000).tolist()\n",
    "\n",
    "\n",
    "from nipype import JoinNode\n",
    "joiner = JoinNode(Function(input_names=['data2'],\n",
    "                          output_names=['data_scaled'],\n",
    "                          function=merge_and_scale_data),\n",
    "                 name='join_scale_data',\n",
    "                 joinsource=adder,\n",
    "                 joinfield=['data2'])\n",
    "\n",
    "wf.connect(plusone, 'out', joiner, 'data2')\n",
    "\n",
    "eg = wf.run()\n",
    "eg.nodes()"
   ]
  },
  {
   "cell_type": "markdown",
   "metadata": {},
   "source": [
    "Let's check the output of ``hello.join_scale_data.a0`` node:"
   ]
  },
  {
   "cell_type": "code",
   "execution_count": 19,
   "metadata": {},
   "outputs": [
    {
     "data": {
      "text/plain": [
       "\n",
       "data_scaled = [[4000, 4000], [5000, 4000]]"
      ]
     },
     "execution_count": 19,
     "metadata": {},
     "output_type": "execute_result"
    }
   ],
   "source": [
    "eg.nodes()[0].result.outputs"
   ]
  },
  {
   "cell_type": "code",
   "execution_count": 20,
   "metadata": {},
   "outputs": [
    {
     "name": "stdout",
     "output_type": "stream",
     "text": [
      "170818-17:47:55,907 workflow INFO:\n",
      "\t Generated workflow graph: /home/neuro/neuro_DS/reproducible-imaging/notebooks/hello_mapnode/graph.dot.png (graph2use=exec, simple_form=True).\n"
     ]
    },
    {
     "data": {
      "text/plain": [
       "'/home/neuro/neuro_DS/reproducible-imaging/notebooks/hello_mapnode/graph.dot.png'"
      ]
     },
     "execution_count": 20,
     "metadata": {},
     "output_type": "execute_result"
    }
   ],
   "source": [
    "wf.write_graph(graph2use='exec')"
   ]
  },
  {
   "cell_type": "code",
   "execution_count": 21,
   "metadata": {},
   "outputs": [
    {
     "data": {
      "image/png": "hello/graph.dot.png",
      "text/plain": [
       "<IPython.core.display.Image object>"
      ]
     },
     "execution_count": 21,
     "metadata": {},
     "output_type": "execute_result"
    }
   ],
   "source": [
    "Image(\"hello/graph.dot.png\")"
   ]
  },
  {
   "cell_type": "code",
   "execution_count": 22,
   "metadata": {},
   "outputs": [
    {
     "data": {
      "image/png": "hello/graph_detailed.dot.png",
      "text/plain": [
       "<IPython.core.display.Image object>"
      ]
     },
     "execution_count": 22,
     "metadata": {},
     "output_type": "execute_result"
    }
   ],
   "source": [
    "Image(\"hello/graph_detailed.dot.png\")"
   ]
  },
  {
   "cell_type": "code",
   "execution_count": 23,
   "metadata": {
    "nbpresent": {
     "id": "6361e837-5e6f-4df9-aff6-d20c5909af56"
    }
   },
   "outputs": [
    {
     "name": "stdout",
     "output_type": "stream",
     "text": [
      "170818-17:47:56,939 workflow INFO:\n",
      "\t Workflow hello_mapnode settings: ['check', 'execution', 'logging']\n",
      "170818-17:47:56,991 workflow INFO:\n",
      "\t Running in parallel.\n",
      "170818-17:47:56,997 workflow INFO:\n",
      "\t Executing: a_plus_b.bI.b1 ID: 0\n",
      "170818-17:47:57,6 workflow INFO:\n",
      "\t [Job finished] jobname: a_plus_b.bI.b1 jobid: 0\n",
      "170818-17:47:57,9 workflow INFO:\n",
      "\t Executing: a_plus_b.bI.b0 ID: 5\n",
      "170818-17:47:57,18 workflow INFO:\n",
      "\t [Job finished] jobname: a_plus_b.bI.b0 jobid: 5\n",
      "170818-17:47:57,23 workflow INFO:\n",
      "\t Executing: concat_a_b.aI.a0.b1 ID: 1\n",
      "170818-17:47:57,37 workflow INFO:\n",
      "\t [Job finished] jobname: concat_a_b.aI.a0.b1 jobid: 1\n",
      "170818-17:47:57,39 workflow INFO:\n",
      "\t Executing: concat_a_b.aI.a1.b1 ID: 3\n",
      "170818-17:47:57,50 workflow INFO:\n",
      "\t [Job finished] jobname: concat_a_b.aI.a1.b1 jobid: 3\n",
      "170818-17:47:57,57 workflow INFO:\n",
      "\t Executing: add_1.a0.b1 ID: 2\n",
      "170818-17:47:57,70 workflow INFO:\n",
      "\t Adding 2 jobs for mapnode add_1.a0.b1\n",
      "170818-17:47:57,77 workflow INFO:\n",
      "\t Executing: add_1.a1.b1 ID: 4\n",
      "170818-17:47:57,92 workflow INFO:\n",
      "\t Adding 2 jobs for mapnode add_1.a1.b1\n",
      "170818-17:47:57,100 workflow INFO:\n",
      "\t Executing: concat_a_b.aI.a0.b0 ID: 6\n",
      "170818-17:47:57,111 workflow INFO:\n",
      "\t [Job finished] jobname: concat_a_b.aI.a0.b0 jobid: 6\n",
      "170818-17:47:57,114 workflow INFO:\n",
      "\t Executing: concat_a_b.aI.a1.b0 ID: 8\n",
      "170818-17:47:57,129 workflow INFO:\n",
      "\t [Job finished] jobname: concat_a_b.aI.a1.b0 jobid: 8\n",
      "170818-17:47:57,134 workflow INFO:\n",
      "\t Executing: add_1.a0.b0 ID: 7\n",
      "170818-17:47:57,147 workflow INFO:\n",
      "\t Adding 2 jobs for mapnode add_1.a0.b0\n",
      "170818-17:47:57,155 workflow INFO:\n",
      "\t Executing: add_1.a1.b0 ID: 9\n",
      "170818-17:47:57,169 workflow INFO:\n",
      "\t Adding 2 jobs for mapnode add_1.a1.b0\n",
      "170818-17:47:57,175 workflow INFO:\n",
      "\t Executing: _add_10 ID: 12\n",
      "170818-17:47:57,185 workflow INFO:\n",
      "\t [Job finished] jobname: _add_10 jobid: 12\n",
      "170818-17:47:57,187 workflow INFO:\n",
      "\t Executing: _add_11 ID: 13\n",
      "170818-17:47:57,197 workflow INFO:\n",
      "\t [Job finished] jobname: _add_11 jobid: 13\n",
      "170818-17:47:57,204 workflow INFO:\n",
      "\t Executing: add_1.a0.b1 ID: 2\n",
      "170818-17:47:57,213 workflow INFO:\n",
      "\t [Job finished] jobname: add_1.a0.b1 jobid: 2\n",
      "170818-17:47:57,215 workflow INFO:\n",
      "\t Executing: _add_10 ID: 14\n",
      "170818-17:47:57,225 workflow INFO:\n",
      "\t [Job finished] jobname: _add_10 jobid: 14\n",
      "170818-17:47:57,229 workflow INFO:\n",
      "\t Executing: _add_11 ID: 15\n",
      "170818-17:47:57,240 workflow INFO:\n",
      "\t [Job finished] jobname: _add_11 jobid: 15\n",
      "170818-17:47:57,243 workflow INFO:\n",
      "\t Executing: _add_10 ID: 16\n",
      "170818-17:47:57,252 workflow INFO:\n",
      "\t [Job finished] jobname: _add_10 jobid: 16\n",
      "170818-17:47:57,256 workflow INFO:\n",
      "\t Executing: add_1.a1.b1 ID: 4\n",
      "170818-17:47:57,265 workflow INFO:\n",
      "\t [Job finished] jobname: add_1.a1.b1 jobid: 4\n",
      "170818-17:47:57,267 workflow INFO:\n",
      "\t Executing: _add_11 ID: 17\n",
      "170818-17:47:57,277 workflow INFO:\n",
      "\t [Job finished] jobname: _add_11 jobid: 17\n",
      "170818-17:47:57,285 workflow INFO:\n",
      "\t Executing: add_1.a0.b0 ID: 7\n",
      "170818-17:47:57,295 workflow INFO:\n",
      "\t [Job finished] jobname: add_1.a0.b0 jobid: 7\n",
      "170818-17:47:57,299 workflow INFO:\n",
      "\t Executing: _add_10 ID: 18\n",
      "170818-17:47:57,308 workflow INFO:\n",
      "\t [Job finished] jobname: _add_10 jobid: 18\n",
      "170818-17:47:57,312 workflow INFO:\n",
      "\t Executing: join_scale_data.a0 ID: 11\n",
      "170818-17:47:57,331 workflow INFO:\n",
      "\t [Job finished] jobname: join_scale_data.a0 jobid: 11\n",
      "170818-17:47:57,333 workflow INFO:\n",
      "\t Executing: _add_11 ID: 19\n",
      "170818-17:47:57,342 workflow INFO:\n",
      "\t [Job finished] jobname: _add_11 jobid: 19\n",
      "170818-17:47:57,346 workflow INFO:\n",
      "\t Executing: add_1.a1.b0 ID: 9\n",
      "170818-17:47:57,353 workflow INFO:\n",
      "\t [Job finished] jobname: add_1.a1.b0 jobid: 9\n",
      "170818-17:47:57,358 workflow INFO:\n",
      "\t Executing: join_scale_data.a1 ID: 10\n",
      "170818-17:47:57,376 workflow INFO:\n",
      "\t [Job finished] jobname: join_scale_data.a1 jobid: 10\n",
      "CPU times: user 170 ms, sys: 110 ms, total: 280 ms\n",
      "Wall time: 459 ms\n"
     ]
    }
   ],
   "source": [
    "%time eg = wf.run(plugin='MultiProc', plugin_args={'n_procs': 2})"
   ]
  },
  {
   "cell_type": "code",
   "execution_count": 24,
   "metadata": {
    "nbpresent": {
     "id": "055c7435-88f1-45db-9562-63d5f910cac3"
    }
   },
   "outputs": [],
   "source": [
    "wf.base_dir = os.path.join(os.getcwd(), 'alt')"
   ]
  },
  {
   "cell_type": "code",
   "execution_count": 25,
   "metadata": {},
   "outputs": [
    {
     "name": "stdout",
     "output_type": "stream",
     "text": [
      "170818-17:47:57,638 workflow INFO:\n",
      "\t Workflow hello_mapnode settings: ['check', 'execution', 'logging']\n",
      "170818-17:47:57,693 workflow INFO:\n",
      "\t Running in parallel.\n",
      "170818-17:47:57,699 workflow INFO:\n",
      "\t Executing: a_plus_b.bI.b1 ID: 0\n",
      "170818-17:47:57,709 workflow INFO:\n",
      "\t [Job finished] jobname: a_plus_b.bI.b1 jobid: 0\n",
      "170818-17:47:57,713 workflow INFO:\n",
      "\t Executing: a_plus_b.bI.b0 ID: 5\n",
      "170818-17:47:57,724 workflow INFO:\n",
      "\t [Job finished] jobname: a_plus_b.bI.b0 jobid: 5\n",
      "170818-17:47:57,729 workflow INFO:\n",
      "\t Executing: concat_a_b.aI.a0.b1 ID: 1\n",
      "170818-17:47:57,747 workflow INFO:\n",
      "\t [Job finished] jobname: concat_a_b.aI.a0.b1 jobid: 1\n",
      "170818-17:47:57,750 workflow INFO:\n",
      "\t Executing: concat_a_b.aI.a1.b1 ID: 3\n",
      "170818-17:47:57,763 workflow INFO:\n",
      "\t [Job finished] jobname: concat_a_b.aI.a1.b1 jobid: 3\n",
      "170818-17:47:57,769 workflow INFO:\n",
      "\t Executing: add_1.a0.b1 ID: 2\n",
      "170818-17:47:57,786 workflow INFO:\n",
      "\t Adding 2 jobs for mapnode add_1.a0.b1\n",
      "170818-17:47:57,792 workflow INFO:\n",
      "\t Executing: add_1.a1.b1 ID: 4\n",
      "170818-17:47:57,807 workflow INFO:\n",
      "\t Adding 2 jobs for mapnode add_1.a1.b1\n",
      "170818-17:47:57,815 workflow INFO:\n",
      "\t Executing: concat_a_b.aI.a0.b0 ID: 6\n",
      "170818-17:47:57,827 workflow INFO:\n",
      "\t [Job finished] jobname: concat_a_b.aI.a0.b0 jobid: 6\n",
      "170818-17:47:57,830 workflow INFO:\n",
      "\t Executing: concat_a_b.aI.a1.b0 ID: 8\n",
      "170818-17:47:57,843 workflow INFO:\n",
      "\t [Job finished] jobname: concat_a_b.aI.a1.b0 jobid: 8\n",
      "170818-17:47:57,849 workflow INFO:\n",
      "\t Executing: add_1.a0.b0 ID: 7\n",
      "170818-17:47:57,861 workflow INFO:\n",
      "\t Adding 2 jobs for mapnode add_1.a0.b0\n",
      "170818-17:47:57,866 workflow INFO:\n",
      "\t Executing: add_1.a1.b0 ID: 9\n",
      "170818-17:47:57,880 workflow INFO:\n",
      "\t Adding 2 jobs for mapnode add_1.a1.b0\n",
      "170818-17:47:57,891 workflow INFO:\n",
      "\t Executing: _add_10 ID: 12\n",
      "170818-17:47:57,902 workflow INFO:\n",
      "\t [Job finished] jobname: _add_10 jobid: 12\n",
      "170818-17:47:57,905 workflow INFO:\n",
      "\t Executing: _add_11 ID: 13\n",
      "170818-17:47:57,913 workflow INFO:\n",
      "\t [Job finished] jobname: _add_11 jobid: 13\n",
      "170818-17:47:57,921 workflow INFO:\n",
      "\t Executing: add_1.a0.b1 ID: 2\n",
      "170818-17:47:57,932 workflow INFO:\n",
      "\t [Job finished] jobname: add_1.a0.b1 jobid: 2\n",
      "170818-17:47:57,937 workflow INFO:\n",
      "\t Executing: _add_10 ID: 14\n",
      "170818-17:47:57,947 workflow INFO:\n",
      "\t [Job finished] jobname: _add_10 jobid: 14\n",
      "170818-17:47:57,953 workflow INFO:\n",
      "\t Executing: _add_11 ID: 15\n",
      "170818-17:47:57,961 workflow INFO:\n",
      "\t [Job finished] jobname: _add_11 jobid: 15\n",
      "170818-17:47:57,963 workflow INFO:\n",
      "\t Executing: _add_10 ID: 16\n",
      "170818-17:47:57,977 workflow INFO:\n",
      "\t [Job finished] jobname: _add_10 jobid: 16\n",
      "170818-17:47:57,981 workflow INFO:\n",
      "\t Executing: add_1.a1.b1 ID: 4\n",
      "170818-17:47:57,992 workflow INFO:\n",
      "\t [Job finished] jobname: add_1.a1.b1 jobid: 4\n",
      "170818-17:47:57,995 workflow INFO:\n",
      "\t Executing: _add_11 ID: 17\n",
      "170818-17:47:58,3 workflow INFO:\n",
      "\t [Job finished] jobname: _add_11 jobid: 17\n",
      "170818-17:47:58,7 workflow INFO:\n",
      "\t Executing: add_1.a0.b0 ID: 7\n",
      "170818-17:47:58,18 workflow INFO:\n",
      "\t [Job finished] jobname: add_1.a0.b0 jobid: 7\n",
      "170818-17:47:58,21 workflow INFO:\n",
      "\t Executing: _add_10 ID: 18\n",
      "170818-17:47:58,30 workflow INFO:\n",
      "\t [Job finished] jobname: _add_10 jobid: 18\n",
      "170818-17:47:58,36 workflow INFO:\n",
      "\t Executing: join_scale_data.a0 ID: 11\n",
      "170818-17:47:58,52 workflow INFO:\n",
      "\t [Job finished] jobname: join_scale_data.a0 jobid: 11\n",
      "170818-17:47:58,56 workflow INFO:\n",
      "\t Executing: _add_11 ID: 19\n",
      "170818-17:47:58,66 workflow INFO:\n",
      "\t [Job finished] jobname: _add_11 jobid: 19\n",
      "170818-17:47:58,71 workflow INFO:\n",
      "\t Executing: add_1.a1.b0 ID: 9\n",
      "170818-17:47:58,79 workflow INFO:\n",
      "\t [Job finished] jobname: add_1.a1.b0 jobid: 9\n",
      "170818-17:47:58,83 workflow INFO:\n",
      "\t Executing: join_scale_data.a1 ID: 10\n",
      "170818-17:47:58,99 workflow INFO:\n",
      "\t [Job finished] jobname: join_scale_data.a1 jobid: 10\n",
      "CPU times: user 210 ms, sys: 100 ms, total: 310 ms\n",
      "Wall time: 485 ms\n"
     ]
    }
   ],
   "source": [
    "%time eg = wf.run(plugin='MultiProc', plugin_args={'n_procs': 2})"
   ]
  },
  {
   "cell_type": "code",
   "execution_count": 26,
   "metadata": {},
   "outputs": [
    {
     "name": "stdout",
     "output_type": "stream",
     "text": [
      "170818-17:47:58,756 workflow INFO:\n",
      "\t Workflow hello_mapnode settings: ['check', 'execution', 'logging']\n",
      "170818-17:47:58,803 workflow INFO:\n",
      "\t Running in parallel.\n",
      "170818-17:47:58,811 workflow INFO:\n",
      "\t Executing: a_plus_b.bI.b1 ID: 0\n",
      "170818-17:47:58,823 workflow INFO:\n",
      "\t [Job finished] jobname: a_plus_b.bI.b1 jobid: 0\n",
      "170818-17:47:58,826 workflow INFO:\n",
      "\t Executing: a_plus_b.bI.b0 ID: 5\n",
      "170818-17:47:58,837 workflow INFO:\n",
      "\t [Job finished] jobname: a_plus_b.bI.b0 jobid: 5\n",
      "170818-17:47:58,841 workflow INFO:\n",
      "\t Executing: concat_a_b.aI.a0.b1 ID: 1\n",
      "170818-17:47:58,857 workflow INFO:\n",
      "\t [Job finished] jobname: concat_a_b.aI.a0.b1 jobid: 1\n",
      "170818-17:47:58,859 workflow INFO:\n",
      "\t Executing: concat_a_b.aI.a1.b1 ID: 3\n",
      "170818-17:47:58,871 workflow INFO:\n",
      "\t [Job finished] jobname: concat_a_b.aI.a1.b1 jobid: 3\n",
      "170818-17:47:58,876 workflow INFO:\n",
      "\t Executing: add_1.a0.b1 ID: 2\n",
      "170818-17:47:58,890 workflow INFO:\n",
      "\t Adding 2 jobs for mapnode add_1.a0.b1\n",
      "170818-17:47:58,899 workflow INFO:\n",
      "\t Executing: add_1.a1.b1 ID: 4\n",
      "170818-17:47:58,912 workflow INFO:\n",
      "\t Adding 2 jobs for mapnode add_1.a1.b1\n",
      "170818-17:47:58,918 workflow INFO:\n",
      "\t Executing: concat_a_b.aI.a0.b0 ID: 6\n",
      "170818-17:47:58,932 workflow INFO:\n",
      "\t [Job finished] jobname: concat_a_b.aI.a0.b0 jobid: 6\n",
      "170818-17:47:58,935 workflow INFO:\n",
      "\t Executing: concat_a_b.aI.a1.b0 ID: 8\n",
      "170818-17:47:58,948 workflow INFO:\n",
      "\t [Job finished] jobname: concat_a_b.aI.a1.b0 jobid: 8\n",
      "170818-17:47:58,954 workflow INFO:\n",
      "\t Executing: add_1.a0.b0 ID: 7\n",
      "170818-17:47:58,967 workflow INFO:\n",
      "\t Adding 2 jobs for mapnode add_1.a0.b0\n",
      "170818-17:47:58,974 workflow INFO:\n",
      "\t Executing: add_1.a1.b0 ID: 9\n",
      "170818-17:47:58,988 workflow INFO:\n",
      "\t Adding 2 jobs for mapnode add_1.a1.b0\n",
      "170818-17:47:58,994 workflow INFO:\n",
      "\t Executing: _add_10 ID: 12\n",
      "170818-17:47:59,4 workflow INFO:\n",
      "\t [Job finished] jobname: _add_10 jobid: 12\n",
      "170818-17:47:59,8 workflow INFO:\n",
      "\t Executing: _add_11 ID: 13\n",
      "170818-17:47:59,20 workflow INFO:\n",
      "\t [Job finished] jobname: _add_11 jobid: 13\n",
      "170818-17:47:59,25 workflow INFO:\n",
      "\t Executing: add_1.a0.b1 ID: 2\n",
      "170818-17:47:59,33 workflow INFO:\n",
      "\t [Job finished] jobname: add_1.a0.b1 jobid: 2\n",
      "170818-17:47:59,36 workflow INFO:\n",
      "\t Executing: _add_10 ID: 14\n",
      "170818-17:47:59,48 workflow INFO:\n",
      "\t [Job finished] jobname: _add_10 jobid: 14\n",
      "170818-17:47:59,54 workflow INFO:\n",
      "\t Executing: _add_11 ID: 15\n",
      "170818-17:47:59,63 workflow INFO:\n",
      "\t [Job finished] jobname: _add_11 jobid: 15\n",
      "170818-17:47:59,65 workflow INFO:\n",
      "\t Executing: _add_10 ID: 16\n",
      "170818-17:47:59,78 workflow INFO:\n",
      "\t [Job finished] jobname: _add_10 jobid: 16\n",
      "170818-17:47:59,82 workflow INFO:\n",
      "\t Executing: add_1.a1.b1 ID: 4\n",
      "170818-17:47:59,92 workflow INFO:\n",
      "\t [Job finished] jobname: add_1.a1.b1 jobid: 4\n",
      "170818-17:47:59,95 workflow INFO:\n",
      "\t Executing: _add_11 ID: 17\n",
      "170818-17:47:59,107 workflow INFO:\n",
      "\t [Job finished] jobname: _add_11 jobid: 17\n",
      "170818-17:47:59,110 workflow INFO:\n",
      "\t Executing: add_1.a0.b0 ID: 7\n",
      "170818-17:47:59,120 workflow INFO:\n",
      "\t [Job finished] jobname: add_1.a0.b0 jobid: 7\n",
      "170818-17:47:59,124 workflow INFO:\n",
      "\t Executing: _add_10 ID: 18\n",
      "170818-17:47:59,131 workflow INFO:\n",
      "\t [Job finished] jobname: _add_10 jobid: 18\n",
      "170818-17:47:59,135 workflow INFO:\n",
      "\t Executing: join_scale_data.a0 ID: 11\n",
      "170818-17:47:59,157 workflow INFO:\n",
      "\t [Job finished] jobname: join_scale_data.a0 jobid: 11\n",
      "170818-17:47:59,159 workflow INFO:\n",
      "\t Executing: _add_11 ID: 19\n",
      "170818-17:47:59,168 workflow INFO:\n",
      "\t [Job finished] jobname: _add_11 jobid: 19\n",
      "170818-17:47:59,172 workflow INFO:\n",
      "\t Executing: add_1.a1.b0 ID: 9\n",
      "170818-17:47:59,182 workflow INFO:\n",
      "\t [Job finished] jobname: add_1.a1.b0 jobid: 9\n",
      "170818-17:47:59,186 workflow INFO:\n",
      "\t Executing: join_scale_data.a1 ID: 10\n",
      "170818-17:47:59,203 workflow INFO:\n",
      "\t [Job finished] jobname: join_scale_data.a1 jobid: 10\n",
      "CPU times: user 210 ms, sys: 80 ms, total: 290 ms\n",
      "Wall time: 469 ms\n"
     ]
    }
   ],
   "source": [
    "%time eg = wf.run(plugin='MultiProc', plugin_args={'n_procs': 2})"
   ]
  },
  {
   "cell_type": "markdown",
   "metadata": {
    "collapsed": true,
    "solution2": "hidden",
    "solution2_first": true
   },
   "source": [
    "### Exercise 1\n",
    "\n",
    "Create a workflow to calculate a sum of factorials of numbers from a range between $n_{min}$ and $n_{max}$, i.e.:\n",
    "\n",
    "$$\\sum _{k=n_{min}}^{n_{max}} k! = 0! + 1! +2! + 3! + \\cdots$$ \n",
    "\n",
    "if $n_{min}=0$ and $n_{max}=3$\n",
    "$$\\sum _{k=0}^{3} k! = 0! + 1! +2! + 3!  =  1 + 1 + 2 + 6 = 10$$\n"
   ]
  },
  {
   "cell_type": "code",
   "execution_count": 27,
   "metadata": {
    "solution2": "hidden"
   },
   "outputs": [
    {
     "name": "stdout",
     "output_type": "stream",
     "text": [
      "170818-17:48:00,232 workflow INFO:\n",
      "\t Workflow ex1 settings: ['check', 'execution', 'logging']\n",
      "170818-17:48:00,263 workflow INFO:\n",
      "\t Running serially.\n",
      "170818-17:48:00,265 workflow INFO:\n",
      "\t Executing node range_list in dir: /home/neuro/neuro_DS/reproducible-imaging/notebooks/ex1/range_list\n",
      "170818-17:48:00,282 workflow INFO:\n",
      "\t Collecting precomputed outputs\n",
      "170818-17:48:00,294 workflow INFO:\n",
      "\t Executing node factorial in dir: /home/neuro/neuro_DS/reproducible-imaging/notebooks/ex1/factorial\n",
      "170818-17:48:00,317 workflow INFO:\n",
      "\t Executing node summing in dir: /home/neuro/neuro_DS/reproducible-imaging/notebooks/ex1/summing\n",
      "170818-17:48:00,334 workflow INFO:\n",
      "\t Collecting precomputed outputs\n"
     ]
    }
   ],
   "source": [
    "from nipype import Workflow, Node, MapNode, Function\n",
    "import os\n",
    "\n",
    "def range_fun(n_min, n_max):\n",
    "    return list(range(n_min, n_max+1))\n",
    "\n",
    "def factorial(n):\n",
    "    # print(\"FACTORIAL, {}\".format(n))\n",
    "    import math\n",
    "    return math.factorial(n)\n",
    "\n",
    "def summing(terms):\n",
    "    return sum(terms)\n",
    "\n",
    "wf_ex1 = Workflow('ex1')\n",
    "wf_ex1.base_dir = os.getcwd()\n",
    "\n",
    "range_nd = Node(Function(input_names=['n_min', 'n_max'],\n",
    "                         output_names=['range_list'],\n",
    "                         function=range_fun), \n",
    "                name='range_list')\n",
    "\n",
    "factorial_nd = MapNode(Function(input_names=['n'],\n",
    "                                output_names=['fact_out'],\n",
    "                                function=factorial), \n",
    "                       iterfield=['n'],\n",
    "                       name='factorial')\n",
    "\n",
    "summing_nd = Node(Function(input_names=['terms'],\n",
    "                           output_names=['sum_out'],\n",
    "                           function=summing), \n",
    "                  name='summing')\n",
    "\n",
    "\n",
    "range_nd.inputs.n_min = 0\n",
    "range_nd.inputs.n_max = 3\n",
    "\n",
    "wf_ex1.add_nodes([range_nd])\n",
    "wf_ex1.connect(range_nd, 'range_list', factorial_nd, 'n')\n",
    "wf_ex1.connect(factorial_nd, 'fact_out', summing_nd, \"terms\")\n",
    "\n",
    "\n",
    "eg = wf_ex1.run()"
   ]
  },
  {
   "cell_type": "markdown",
   "metadata": {
    "solution2": "hidden"
   },
   "source": [
    "let's print all nodes:"
   ]
  },
  {
   "cell_type": "code",
   "execution_count": 28,
   "metadata": {
    "solution2": "hidden"
   },
   "outputs": [
    {
     "data": {
      "text/plain": [
       "[ex1.range_list, ex1.factorial, ex1.summing]"
      ]
     },
     "execution_count": 28,
     "metadata": {},
     "output_type": "execute_result"
    }
   ],
   "source": [
    "eg.nodes()"
   ]
  },
  {
   "cell_type": "markdown",
   "metadata": {
    "solution2": "hidden"
   },
   "source": [
    "the final result should be 10:"
   ]
  },
  {
   "cell_type": "code",
   "execution_count": 29,
   "metadata": {
    "solution2": "hidden"
   },
   "outputs": [
    {
     "data": {
      "text/plain": [
       "\n",
       "sum_out = 10"
      ]
     },
     "execution_count": 29,
     "metadata": {},
     "output_type": "execute_result"
    }
   ],
   "source": [
    "eg.nodes()[2].result.outputs"
   ]
  },
  {
   "cell_type": "markdown",
   "metadata": {
    "solution2": "hidden"
   },
   "source": [
    "we can also check the results of two other nodes:"
   ]
  },
  {
   "cell_type": "code",
   "execution_count": 30,
   "metadata": {
    "solution2": "hidden"
   },
   "outputs": [
    {
     "name": "stdout",
     "output_type": "stream",
     "text": [
      "\n",
      "range_list = [0, 1, 2, 3]\n",
      "\n",
      "Bunch(fact_out=[1, 1, 2, 6])\n"
     ]
    }
   ],
   "source": [
    "print(eg.nodes()[0].result.outputs)\n",
    "print(eg.nodes()[1].result.outputs)"
   ]
  },
  {
   "cell_type": "code",
   "execution_count": 31,
   "metadata": {},
   "outputs": [],
   "source": [
    "#write your code here\n",
    "\n",
    "# 1. write 3 functions: one that return a list of number from specific range, \n",
    "#    second that returns n! (you can use math.factorial) and third that sums the elements from a list\n",
    "\n",
    "# 2. create a workflow and define the working directory\n",
    "\n",
    "# 3. define 3 nodes using Node and MapNode and connect them within the workflow\n",
    "\n",
    "# 4. run the workflow and check the results\n"
   ]
  },
  {
   "cell_type": "markdown",
   "metadata": {
    "solution2": "hidden",
    "solution2_first": true
   },
   "source": [
    "### Exercise 2\n",
    "\n",
    "Create a workflow to calculate the following sum for chosen $n$ and five different values of $x$:  $0$, $\\frac{1}{2} \\pi$, $\\pi$, $\\frac{3}{2} \\pi$, and $ 2 \\pi$.\n",
    "\n",
    "$\\sum _{{k=0}}^{{n}}{\\frac  {(-1)^{k}}{(2k+1)!}}x^{{2k+1}}\\quad =x-{\\frac  {x^{3}}{3!}}+{\\frac  {x^{5}}{5!}}-\\cdots $\n"
   ]
  },
  {
   "cell_type": "code",
   "execution_count": 32,
   "metadata": {
    "solution2": "hidden"
   },
   "outputs": [
    {
     "name": "stdout",
     "output_type": "stream",
     "text": [
      "170818-17:48:08,801 workflow INFO:\n",
      "\t Workflow ex2 settings: ['check', 'execution', 'logging']\n",
      "170818-17:48:08,839 workflow INFO:\n",
      "\t Running serially.\n",
      "170818-17:48:08,841 workflow INFO:\n",
      "\t Executing node range_list in dir: /home/neuro/neuro_DS/reproducible-imaging/notebooks/ex2/range_list\n",
      "170818-17:48:08,853 workflow INFO:\n",
      "\t Collecting precomputed outputs\n",
      "170818-17:48:08,863 workflow INFO:\n",
      "\t Executing node term.aI.a0 in dir: /home/neuro/neuro_DS/reproducible-imaging/notebooks/ex2/_x_0/term\n",
      "170818-17:48:08,885 workflow INFO:\n",
      "\t Executing node summing.a0 in dir: /home/neuro/neuro_DS/reproducible-imaging/notebooks/ex2/_x_0/summing\n",
      "170818-17:48:08,957 workflow INFO:\n",
      "\t Executing node term.aI.a1 in dir: /home/neuro/neuro_DS/reproducible-imaging/notebooks/ex2/_x_1.5707963267948966/term\n",
      "170818-17:48:08,977 workflow INFO:\n",
      "\t Executing node summing.a1 in dir: /home/neuro/neuro_DS/reproducible-imaging/notebooks/ex2/_x_1.5707963267948966/summing\n",
      "170818-17:48:09,46 workflow INFO:\n",
      "\t Executing node term.aI.a2 in dir: /home/neuro/neuro_DS/reproducible-imaging/notebooks/ex2/_x_3.141592653589793/term\n",
      "170818-17:48:09,69 workflow INFO:\n",
      "\t Executing node summing.a2 in dir: /home/neuro/neuro_DS/reproducible-imaging/notebooks/ex2/_x_3.141592653589793/summing\n",
      "170818-17:48:09,136 workflow INFO:\n",
      "\t Executing node term.aI.a3 in dir: /home/neuro/neuro_DS/reproducible-imaging/notebooks/ex2/_x_4.71238898038469/term\n",
      "170818-17:48:09,156 workflow INFO:\n",
      "\t Executing node summing.a3 in dir: /home/neuro/neuro_DS/reproducible-imaging/notebooks/ex2/_x_4.71238898038469/summing\n",
      "170818-17:48:09,229 workflow INFO:\n",
      "\t Executing node term.aI.a4 in dir: /home/neuro/neuro_DS/reproducible-imaging/notebooks/ex2/_x_6.283185307179586/term\n",
      "170818-17:48:09,249 workflow INFO:\n",
      "\t Executing node summing.a4 in dir: /home/neuro/neuro_DS/reproducible-imaging/notebooks/ex2/_x_6.283185307179586/summing\n"
     ]
    }
   ],
   "source": [
    "# we can reuse function from previous exercise, but they need some edits\n",
    "from nipype import Workflow, Node, MapNode, JoinNode, Function\n",
    "import os\n",
    "import math\n",
    "\n",
    "def range_fun(n_max):\n",
    "    return list(range(n_max+1))\n",
    "\n",
    "def term(k, x):\n",
    "    import math\n",
    "    fract = math.factorial(2 * k + 1)\n",
    "    polyn = x ** (2 * k + 1) \n",
    "    return (-1)**k * polyn / fract\n",
    "\n",
    "def summing(terms):\n",
    "    return sum(terms)\n",
    "\n",
    "wf_ex2 = Workflow('ex2')\n",
    "wf_ex2.base_dir = os.getcwd()\n",
    "\n",
    "range_nd = Node(Function(input_names=['n_max'],\n",
    "                         output_names=['range_list'],\n",
    "                         function=range_fun), \n",
    "                name='range_list')\n",
    "\n",
    "term_nd = MapNode(Function(input_names=['k', 'x'],\n",
    "                           output_names=['term_out'],\n",
    "                           function=term), \n",
    "                  iterfield=['k'],\n",
    "                  name='term')\n",
    "\n",
    "summing_nd = Node(Function(input_names=['terms'],\n",
    "                           output_names=['sum_out'],\n",
    "                           function=summing), \n",
    "                name='summing')\n",
    "\n",
    "\n",
    "range_nd.inputs.n_max = 15\n",
    "\n",
    "x_list = [0, 0.5 * math.pi, math.pi, 1.5 * math.pi, 2 * math.pi]\n",
    "\n",
    "term_nd.iterables = ('x', x_list)\n",
    "\n",
    "wf_ex2.add_nodes([range_nd])\n",
    "wf_ex2.connect(range_nd, 'range_list', term_nd, 'k')\n",
    "wf_ex2.connect(term_nd, 'term_out', summing_nd, \"terms\")\n",
    "\n",
    "\n",
    "eg = wf_ex2.run()"
   ]
  },
  {
   "cell_type": "markdown",
   "metadata": {
    "solution2": "hidden"
   },
   "source": [
    "let's check all nodes"
   ]
  },
  {
   "cell_type": "code",
   "execution_count": 33,
   "metadata": {
    "solution2": "hidden"
   },
   "outputs": [
    {
     "data": {
      "text/plain": [
       "[ex2.range_list,\n",
       " ex2.term.aI.a0,\n",
       " ex2.summing.a0,\n",
       " ex2.term.aI.a1,\n",
       " ex2.summing.a1,\n",
       " ex2.term.aI.a2,\n",
       " ex2.summing.a2,\n",
       " ex2.term.aI.a3,\n",
       " ex2.summing.a3,\n",
       " ex2.term.aI.a4,\n",
       " ex2.summing.a4]"
      ]
     },
     "execution_count": 33,
     "metadata": {},
     "output_type": "execute_result"
    }
   ],
   "source": [
    "eg.nodes()"
   ]
  },
  {
   "cell_type": "markdown",
   "metadata": {
    "solution2": "hidden"
   },
   "source": [
    "let's print all results of ``ex2.summing``"
   ]
  },
  {
   "cell_type": "code",
   "execution_count": 34,
   "metadata": {
    "solution2": "hidden"
   },
   "outputs": [
    {
     "name": "stdout",
     "output_type": "stream",
     "text": [
      "\n",
      "sum_out = 0.0\n",
      "\n",
      "\n",
      "sum_out = 1.0000000000000002\n",
      "\n",
      "\n",
      "sum_out = 3.328027611925569e-16\n",
      "\n",
      "\n",
      "sum_out = -1.0000000000000022\n",
      "\n",
      "\n",
      "sum_out = -2.4376365177316827e-11\n",
      "\n"
     ]
    }
   ],
   "source": [
    "print(eg.nodes()[2].result.outputs)\n",
    "print(eg.nodes()[4].result.outputs)\n",
    "print(eg.nodes()[6].result.outputs)\n",
    "print(eg.nodes()[8].result.outputs)\n",
    "print(eg.nodes()[10].result.outputs)"
   ]
  },
  {
   "cell_type": "markdown",
   "metadata": {
    "solution2": "hidden"
   },
   "source": [
    "Great, we just implemented pretty good Sine function! Those number should be approximately 0, 1, 0, -1 and 0. If they are not, try to increase $n_max$."
   ]
  },
  {
   "cell_type": "code",
   "execution_count": 35,
   "metadata": {},
   "outputs": [],
   "source": [
    "# write your solution here\n",
    "\n",
    "# 1. write 3 functions: one that return a list of number from a range between 0 and some n, \n",
    "#    second that returns a term for a specific k, and third that sums the elements from a list\n",
    "\n",
    "# 2. create a workflow and define the working directory\n",
    "\n",
    "# 3. define 3 nodes using Node and MapNode and connect them within the workflow\n",
    "\n",
    "# 4. use iterables for 4 values of x\n",
    "\n",
    "# 5. run the workflow and check the final results for every value of x\n"
   ]
  },
  {
   "cell_type": "markdown",
   "metadata": {
    "solution2": "hidden",
    "solution2_first": true
   },
   "source": [
    "### Exercise 2a\n",
    "\n",
    "Use JoinNode to combine results from Exercise 2 in one container, e.g. a dictionary, that takes value $x$ as a key and the result from ``summing`` Node as a value."
   ]
  },
  {
   "cell_type": "code",
   "execution_count": 36,
   "metadata": {
    "solution2": "hidden"
   },
   "outputs": [
    {
     "name": "stdout",
     "output_type": "stream",
     "text": [
      "170818-17:48:15,876 workflow INFO:\n",
      "\t Workflow ex2 settings: ['check', 'execution', 'logging']\n",
      "170818-17:48:15,921 workflow INFO:\n",
      "\t Running serially.\n",
      "170818-17:48:15,924 workflow INFO:\n",
      "\t Executing node range_list in dir: /home/neuro/neuro_DS/reproducible-imaging/notebooks/ex2/range_list\n",
      "170818-17:48:15,937 workflow INFO:\n",
      "\t Collecting precomputed outputs\n",
      "170818-17:48:15,951 workflow INFO:\n",
      "\t Executing node term.aI.a0 in dir: /home/neuro/neuro_DS/reproducible-imaging/notebooks/ex2/_x_0/term\n",
      "170818-17:48:15,974 workflow INFO:\n",
      "\t Executing node summing.a0 in dir: /home/neuro/neuro_DS/reproducible-imaging/notebooks/ex2/_x_0/summing\n",
      "170818-17:48:16,65 workflow INFO:\n",
      "\t Executing node term.aI.a1 in dir: /home/neuro/neuro_DS/reproducible-imaging/notebooks/ex2/_x_1.5707963267948966/term\n",
      "170818-17:48:16,90 workflow INFO:\n",
      "\t Executing node summing.a1 in dir: /home/neuro/neuro_DS/reproducible-imaging/notebooks/ex2/_x_1.5707963267948966/summing\n",
      "170818-17:48:16,180 workflow INFO:\n",
      "\t Executing node term.aI.a2 in dir: /home/neuro/neuro_DS/reproducible-imaging/notebooks/ex2/_x_3.141592653589793/term\n",
      "170818-17:48:16,207 workflow INFO:\n",
      "\t Executing node summing.a2 in dir: /home/neuro/neuro_DS/reproducible-imaging/notebooks/ex2/_x_3.141592653589793/summing\n",
      "170818-17:48:16,296 workflow INFO:\n",
      "\t Executing node term.aI.a3 in dir: /home/neuro/neuro_DS/reproducible-imaging/notebooks/ex2/_x_4.71238898038469/term\n",
      "170818-17:48:16,319 workflow INFO:\n",
      "\t Executing node summing.a3 in dir: /home/neuro/neuro_DS/reproducible-imaging/notebooks/ex2/_x_4.71238898038469/summing\n",
      "170818-17:48:16,410 workflow INFO:\n",
      "\t Executing node term.aI.a4 in dir: /home/neuro/neuro_DS/reproducible-imaging/notebooks/ex2/_x_6.283185307179586/term\n",
      "170818-17:48:16,436 workflow INFO:\n",
      "\t Executing node summing.a4 in dir: /home/neuro/neuro_DS/reproducible-imaging/notebooks/ex2/_x_6.283185307179586/summing\n",
      "170818-17:48:16,528 workflow INFO:\n",
      "\t Executing node merge in dir: /home/neuro/neuro_DS/reproducible-imaging/notebooks/ex2/merge\n",
      "170818-17:48:16,538 workflow INFO:\n",
      "\t Collecting precomputed outputs\n"
     ]
    }
   ],
   "source": [
    "def merge_results(results, x):\n",
    "    return dict(zip(x, results))\n",
    "\n",
    "join_nd = JoinNode(Function(input_names=['results', 'x'],\n",
    "                            output_names=['results_cont'],\n",
    "                            function=merge_results),\n",
    "                   name='merge',\n",
    "                   joinsource=term_nd, # this is the node that used iterables for x\n",
    "                   joinfield=['results'])\n",
    "\n",
    "# taking the list of arguments from the previous part \n",
    "join_nd.inputs.x = x_list\n",
    "\n",
    "# connecting a new node to the summing_nd\n",
    "wf_ex2.connect(summing_nd, \"sum_out\", join_nd, \"results\")\n",
    "\n",
    "eg = wf_ex2.run()"
   ]
  },
  {
   "cell_type": "markdown",
   "metadata": {
    "solution2": "hidden"
   },
   "source": [
    "let's print all nodes"
   ]
  },
  {
   "cell_type": "code",
   "execution_count": 37,
   "metadata": {
    "solution2": "hidden"
   },
   "outputs": [
    {
     "data": {
      "text/plain": [
       "[ex2.range_list,\n",
       " ex2.merge,\n",
       " ex2.term.aI.a0,\n",
       " ex2.summing.a0,\n",
       " ex2.term.aI.a1,\n",
       " ex2.summing.a1,\n",
       " ex2.term.aI.a2,\n",
       " ex2.summing.a2,\n",
       " ex2.term.aI.a3,\n",
       " ex2.summing.a3,\n",
       " ex2.term.aI.a4,\n",
       " ex2.summing.a4]"
      ]
     },
     "execution_count": 37,
     "metadata": {},
     "output_type": "execute_result"
    }
   ],
   "source": [
    "eg.nodes()"
   ]
  },
  {
   "cell_type": "markdown",
   "metadata": {
    "solution2": "hidden"
   },
   "source": [
    "and results from ``merge`` Node:"
   ]
  },
  {
   "cell_type": "code",
   "execution_count": 38,
   "metadata": {
    "solution2": "hidden"
   },
   "outputs": [
    {
     "data": {
      "text/plain": [
       "\n",
       "results_cont = {0: 0.0, 1.5707963267948966: 1.0000000000000002, 3.141592653589793: 3.328027611925569e-16, 4.71238898038469: -1.0000000000000022, 6.283185307179586: -2.4376365177316827e-11}"
      ]
     },
     "execution_count": 38,
     "metadata": {},
     "output_type": "execute_result"
    }
   ],
   "source": [
    "eg.nodes()[1].result.outputs"
   ]
  },
  {
   "cell_type": "code",
   "execution_count": 39,
   "metadata": {},
   "outputs": [],
   "source": [
    "# write your code here\n",
    "\n",
    "# 1. create an additional function that takes 2 list and combines them into one container, e.g. dictionary\n",
    "\n",
    "# 2. use JoinNode to define a new node that merge results from Exercise 2 and connect it to the workflow\n",
    "\n",
    "# 3. run the workflow and check the results of the merging node"
   ]
  }
 ],
 "metadata": {
  "kernelspec": {
   "display_name": "Python 3",
   "language": "python",
   "name": "python3"
  },
  "language_info": {
   "codemirror_mode": {
    "name": "ipython",
    "version": 3
   },
   "file_extension": ".py",
   "mimetype": "text/x-python",
   "name": "python",
   "nbconvert_exporter": "python",
   "pygments_lexer": "ipython3",
   "version": "3.6.2"
  },
  "nbpresent": {
   "slides": {
    "036d9e6d-9014-47e8-ba8c-b7ff491d356e": {
     "id": "036d9e6d-9014-47e8-ba8c-b7ff491d356e",
     "prev": "cc6fa21e-5b8f-44a7-8578-5b58255c0e2b",
     "regions": {
      "69d658c5-3412-4410-96aa-45fbc91e3950": {
       "attrs": {
        "height": 0.8,
        "width": 0.8,
        "x": 0.1,
        "y": 0.1
       },
       "content": {
        "cell": "dcbff777-e05b-43d3-9da3-805207eadb71",
        "part": "whole"
       },
       "id": "69d658c5-3412-4410-96aa-45fbc91e3950"
      }
     }
    },
    "0c3953f2-86d8-4e97-9ffd-02a8377e10c6": {
     "id": "0c3953f2-86d8-4e97-9ffd-02a8377e10c6",
     "prev": "5e629ace-5a9f-4bf2-a295-82901f752daa",
     "regions": {
      "16206fd5-e557-4f6c-8077-e824b87eff4f": {
       "attrs": {
        "height": 0.8,
        "width": 0.8,
        "x": 0.1,
        "y": 0.1
       },
       "content": {
        "cell": "b7a0948a-2f3d-4be5-af22-e8796ab22131",
        "part": "whole"
       },
       "id": "16206fd5-e557-4f6c-8077-e824b87eff4f"
      }
     }
    },
    "1a0083a8-471b-4869-bcb3-c33c81524a2c": {
     "id": "1a0083a8-471b-4869-bcb3-c33c81524a2c",
     "prev": "43c259c6-ec65-4243-8a95-d2a976c6daca",
     "regions": {
      "5907abd6-0b04-4f6d-acd1-1f11dd39c7a2": {
       "attrs": {
        "height": 0.8,
        "width": 0.8,
        "x": 0.1,
        "y": 0.1
       },
       "content": {
        "cell": "c8cbc820-d362-422e-9fdf-79d6ae6af560",
        "part": "whole"
       },
       "id": "5907abd6-0b04-4f6d-acd1-1f11dd39c7a2"
      }
     }
    },
    "32034499-40cf-4318-91f1-aeccdfbba380": {
     "id": "32034499-40cf-4318-91f1-aeccdfbba380",
     "prev": null,
     "regions": {
      "845af035-2d72-4258-b5da-d611edc1ba86": {
       "attrs": {
        "height": 0.8,
        "width": 0.8,
        "x": 0.1,
        "y": 0.1
       },
       "content": {
        "cell": "ef0d4a65-1e86-4570-bd56-0e683df3cc72",
        "part": "whole"
       },
       "id": "845af035-2d72-4258-b5da-d611edc1ba86"
      }
     }
    },
    "43c259c6-ec65-4243-8a95-d2a976c6daca": {
     "id": "43c259c6-ec65-4243-8a95-d2a976c6daca",
     "prev": "76d40b89-085e-44b3-89b4-46f17db1746f",
     "regions": {
      "8192ec05-8445-4c92-9a84-d60610754d06": {
       "attrs": {
        "height": 0.8,
        "width": 0.8,
        "x": 0.1,
        "y": 0.1
       },
       "content": {
        "cell": "9798f6be-09b9-4cb9-8c63-1f10e4d1040c",
        "part": "whole"
       },
       "id": "8192ec05-8445-4c92-9a84-d60610754d06"
      }
     }
    },
    "5288be26-b5af-48c6-8687-ff3bb55e83a9": {
     "id": "5288be26-b5af-48c6-8687-ff3bb55e83a9",
     "prev": "32034499-40cf-4318-91f1-aeccdfbba380",
     "regions": {
      "8247975a-6621-4c12-b3f0-016a235a34b2": {
       "attrs": {
        "height": 0.8,
        "width": 0.8,
        "x": 0.1,
        "y": 0.1
       },
       "content": {
        "cell": "f834221c-3c73-47ce-b36e-ba3f17bd3d60",
        "part": "whole"
       },
       "id": "8247975a-6621-4c12-b3f0-016a235a34b2"
      }
     }
    },
    "5e629ace-5a9f-4bf2-a295-82901f752daa": {
     "id": "5e629ace-5a9f-4bf2-a295-82901f752daa",
     "prev": "dcc3de5f-dfc5-4a35-a583-474dbac5a5ad",
     "regions": {
      "c8fc9ec8-974e-426c-9d36-f55673eee3c4": {
       "attrs": {
        "height": 0.8,
        "width": 0.8,
        "x": 0.1,
        "y": 0.1
       },
       "content": {
        "cell": "2da7d103-ba49-495d-b986-6ef655b2a010",
        "part": "whole"
       },
       "id": "c8fc9ec8-974e-426c-9d36-f55673eee3c4"
      }
     }
    },
    "69c3997a-020c-4288-ba41-da053c70c853": {
     "id": "69c3997a-020c-4288-ba41-da053c70c853",
     "prev": "d2a3e23f-46b6-4f0b-b96b-5341e8a368b0",
     "regions": {
      "5cbcbcde-1087-410d-ac46-bc5d403927ff": {
       "attrs": {
        "height": 0.8,
        "width": 0.8,
        "x": 0.1,
        "y": 0.1
       },
       "content": {
        "cell": "e03280a7-f6b0-48d8-a1a3-c38dd0a93cc2",
        "part": "whole"
       },
       "id": "5cbcbcde-1087-410d-ac46-bc5d403927ff"
      }
     }
    },
    "6e1b1fd9-f600-4262-8bfa-0b6ef6d2ab33": {
     "id": "6e1b1fd9-f600-4262-8bfa-0b6ef6d2ab33",
     "prev": "b5c8cdf1-c521-4830-bdc7-537f4e33974c",
     "regions": {
      "7047358c-1619-4db4-84b5-b3c9f6a4165d": {
       "attrs": {
        "height": 0.8,
        "width": 0.8,
        "x": 0.1,
        "y": 0.1
       },
       "content": {
        "cell": "6361e837-5e6f-4df9-aff6-d20c5909af56",
        "part": "whole"
       },
       "id": "7047358c-1619-4db4-84b5-b3c9f6a4165d"
      }
     }
    },
    "748fa336-fe68-4ec9-879a-18b4c253938b": {
     "id": "748fa336-fe68-4ec9-879a-18b4c253938b",
     "prev": "862ab379-822c-4a94-9433-1b527b2a592d",
     "regions": {
      "2ef88b5d-a61b-4476-a554-36864af7db8e": {
       "attrs": {
        "height": 0.8,
        "width": 0.8,
        "x": 0.1,
        "y": 0.1
       },
       "content": {
        "cell": "1592d986-e07f-4ac0-a06e-c9a3917e30b4",
        "part": "whole"
       },
       "id": "2ef88b5d-a61b-4476-a554-36864af7db8e"
      }
     }
    },
    "76d40b89-085e-44b3-89b4-46f17db1746f": {
     "id": "76d40b89-085e-44b3-89b4-46f17db1746f",
     "prev": "edfccc6e-2b4e-4131-a730-eaa191ff7c81",
     "regions": {
      "939a8941-0ea4-4b62-abbb-05f8b793a5fb": {
       "attrs": {
        "height": 0.8,
        "width": 0.8,
        "x": 0.1,
        "y": 0.1
       },
       "content": {
        "cell": "2ff6c266-4437-4d37-9464-c1573b13ae51",
        "part": "whole"
       },
       "id": "939a8941-0ea4-4b62-abbb-05f8b793a5fb"
      }
     }
    },
    "862ab379-822c-4a94-9433-1b527b2a592d": {
     "id": "862ab379-822c-4a94-9433-1b527b2a592d",
     "prev": "6e1b1fd9-f600-4262-8bfa-0b6ef6d2ab33",
     "regions": {
      "34178cde-c66f-4413-a29d-57c5e60794ed": {
       "attrs": {
        "height": 0.8,
        "width": 0.8,
        "x": 0.1,
        "y": 0.1
       },
       "content": {
        "cell": "bfe919e8-bad6-488f-a01f-ed7c3a7319b7",
        "part": "whole"
       },
       "id": "34178cde-c66f-4413-a29d-57c5e60794ed"
      }
     }
    },
    "8cf4d2aa-9b35-469a-8226-74ab47621c35": {
     "id": "8cf4d2aa-9b35-469a-8226-74ab47621c35",
     "prev": "748fa336-fe68-4ec9-879a-18b4c253938b",
     "regions": {
      "197ef43c-c849-43c3-a6c4-31fd5cd99838": {
       "attrs": {
        "height": 0.8,
        "width": 0.8,
        "x": 0.1,
        "y": 0.1
       },
       "content": {
        "cell": "07b2fb00-3ed4-4a86-8313-7873048021ec",
        "part": "whole"
       },
       "id": "197ef43c-c849-43c3-a6c4-31fd5cd99838"
      }
     }
    },
    "a81e9008-d57d-4aaf-86f0-ffe067287baa": {
     "id": "a81e9008-d57d-4aaf-86f0-ffe067287baa",
     "prev": "5288be26-b5af-48c6-8687-ff3bb55e83a9",
     "regions": {
      "970554aa-ab29-48b9-88f6-9ada37e60548": {
       "attrs": {
        "height": 0.8,
        "width": 0.8,
        "x": 0.1,
        "y": 0.1
       },
       "content": {
        "cell": "bb1cfcc5-5cbf-4097-b8a9-fe4d74ce6bcd",
        "part": "whole"
       },
       "id": "970554aa-ab29-48b9-88f6-9ada37e60548"
      }
     }
    },
    "aee840ab-b7c4-48d7-b6ad-ce867f878951": {
     "id": "aee840ab-b7c4-48d7-b6ad-ce867f878951",
     "prev": "69c3997a-020c-4288-ba41-da053c70c853",
     "regions": {
      "c668f127-028b-4a6e-9410-81abe6a38e95": {
       "attrs": {
        "height": 0.8,
        "width": 0.8,
        "x": 0.1,
        "y": 0.1
       },
       "content": {
        "cell": "055c7435-88f1-45db-9562-63d5f910cac3",
        "part": "whole"
       },
       "id": "c668f127-028b-4a6e-9410-81abe6a38e95"
      }
     }
    },
    "af2fe30f-1cda-4d2e-8a5a-3e265b4b404f": {
     "id": "af2fe30f-1cda-4d2e-8a5a-3e265b4b404f",
     "prev": "a81e9008-d57d-4aaf-86f0-ffe067287baa",
     "regions": {
      "180abf91-afcd-4265-846d-bfd7e4fd1850": {
       "attrs": {
        "height": 0.8,
        "width": 0.8,
        "x": 0.1,
        "y": 0.1
       },
       "content": {
        "cell": "9a460e90-6929-4ec6-8fa6-d7dacb45e00a",
        "part": "whole"
       },
       "id": "180abf91-afcd-4265-846d-bfd7e4fd1850"
      }
     }
    },
    "b5c8cdf1-c521-4830-bdc7-537f4e33974c": {
     "id": "b5c8cdf1-c521-4830-bdc7-537f4e33974c",
     "prev": "dbe3527e-cafa-4fc2-b863-99954c2e4e00",
     "regions": {
      "2ff95d44-ba2e-4b0d-b50d-0cb12468769d": {
       "attrs": {
        "height": 0.8,
        "width": 0.8,
        "x": 0.1,
        "y": 0.1
       },
       "content": {
        "cell": "4c118e06-0dd3-44cf-8246-48b4abb06787",
        "part": "whole"
       },
       "id": "2ff95d44-ba2e-4b0d-b50d-0cb12468769d"
      }
     }
    },
    "cc6fa21e-5b8f-44a7-8578-5b58255c0e2b": {
     "id": "cc6fa21e-5b8f-44a7-8578-5b58255c0e2b",
     "prev": "af2fe30f-1cda-4d2e-8a5a-3e265b4b404f",
     "regions": {
      "87874474-0c2f-47cc-bfe2-f7d5f9b49900": {
       "attrs": {
        "height": 0.8,
        "width": 0.8,
        "x": 0.1,
        "y": 0.1
       },
       "content": {
        "cell": "d0adfd78-01e1-4623-983a-bbf53a9bb858",
        "part": "whole"
       },
       "id": "87874474-0c2f-47cc-bfe2-f7d5f9b49900"
      }
     }
    },
    "cf197342-f78a-4bf5-9b68-6f1430575593": {
     "id": "cf197342-f78a-4bf5-9b68-6f1430575593",
     "prev": "036d9e6d-9014-47e8-ba8c-b7ff491d356e",
     "regions": {
      "95c558ad-28b2-4c98-9ce2-22d80fd97f1b": {
       "attrs": {
        "height": 0.8,
        "width": 0.8,
        "x": 0.1,
        "y": 0.1
       },
       "content": {
        "cell": "f3a955ec-34a2-4a29-bdf8-e0dd8df57cf5",
        "part": "whole"
       },
       "id": "95c558ad-28b2-4c98-9ce2-22d80fd97f1b"
      }
     }
    },
    "d2a3e23f-46b6-4f0b-b96b-5341e8a368b0": {
     "id": "d2a3e23f-46b6-4f0b-b96b-5341e8a368b0",
     "prev": "0c3953f2-86d8-4e97-9ffd-02a8377e10c6",
     "regions": {
      "486a31bf-5c58-4c67-b54d-d45e839167e7": {
       "attrs": {
        "height": 0.8,
        "width": 0.8,
        "x": 0.1,
        "y": 0.1
       },
       "content": {
        "cell": "e68b3f8a-ab55-4045-b8d3-7007a30a527b",
        "part": "whole"
       },
       "id": "486a31bf-5c58-4c67-b54d-d45e839167e7"
      }
     }
    },
    "dbe3527e-cafa-4fc2-b863-99954c2e4e00": {
     "id": "dbe3527e-cafa-4fc2-b863-99954c2e4e00",
     "prev": "cf197342-f78a-4bf5-9b68-6f1430575593",
     "regions": {
      "3625ea9c-9bc9-4a2c-9d40-f230922b1edc": {
       "attrs": {
        "height": 0.8,
        "width": 0.8,
        "x": 0.1,
        "y": 0.1
       },
       "content": {
        "cell": "23672ce7-3781-4144-925a-cc9367dec01d",
        "part": "whole"
       },
       "id": "3625ea9c-9bc9-4a2c-9d40-f230922b1edc"
      }
     }
    },
    "dcc3de5f-dfc5-4a35-a583-474dbac5a5ad": {
     "id": "dcc3de5f-dfc5-4a35-a583-474dbac5a5ad",
     "prev": "1a0083a8-471b-4869-bcb3-c33c81524a2c",
     "regions": {
      "104371ee-397d-4b6d-bb3e-4ec826b2aa27": {
       "attrs": {
        "height": 0.8,
        "width": 0.8,
        "x": 0.1,
        "y": 0.1
       },
       "content": {
        "cell": "6fba065c-c3c5-4c79-a2a3-75e6a2198776",
        "part": "whole"
       },
       "id": "104371ee-397d-4b6d-bb3e-4ec826b2aa27"
      }
     }
    },
    "edfccc6e-2b4e-4131-a730-eaa191ff7c81": {
     "id": "edfccc6e-2b4e-4131-a730-eaa191ff7c81",
     "prev": "8cf4d2aa-9b35-469a-8226-74ab47621c35",
     "regions": {
      "6fa263a6-0bdd-4517-b49b-32da55d66d87": {
       "attrs": {
        "height": 0.8,
        "width": 0.8,
        "x": 0.1,
        "y": 0.1
       },
       "content": {
        "cell": "ac097fd1-7c4a-41ad-bcdb-f3ba93b58d36",
        "part": "whole"
       },
       "id": "6fa263a6-0bdd-4517-b49b-32da55d66d87"
      }
     }
    }
   },
   "themes": {}
  }
 },
 "nbformat": 4,
 "nbformat_minor": 2
}
